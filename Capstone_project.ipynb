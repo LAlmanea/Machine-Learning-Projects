{
 "cells": [
  {
   "cell_type": "markdown",
   "metadata": {},
   "source": [
    "### Toxic Comment Classification - Machine Learning Nanodegree Capstone Project\n",
    " - It is a Multi-label classification task, where a collection of comments on Wikipedia articles were classified into one or more of the following labels: Toxic, Sever Toxic, Obscene, Threat, Insult, Identity hate. \n",
    " - The model uses a Supervised Machine Learning algorithm called Decision Tree. \n",
    " - Its performance is evaluated by ROC & AUC scoring method, which resulted in ~71% prediction accuracy. "
   ]
  },
  {
   "cell_type": "markdown",
   "metadata": {},
   "source": [
    "### Import all the necessary libraries"
   ]
  },
  {
   "cell_type": "code",
   "execution_count": 1,
   "metadata": {
    "collapsed": true
   },
   "outputs": [],
   "source": [
    "import pandas as pd\n",
    "import numpy as np\n",
    "import matplotlib.pyplot as plt\n",
    "%matplotlib inline\n",
    "import seaborn as sns\n",
    "import string\n",
    "import time\n",
    "from sklearn.feature_extraction.text import TfidfVectorizer\n",
    "from sklearn.pipeline import Pipeline\n",
    "from sklearn.model_selection import GridSearchCV\n",
    "from sklearn.model_selection import train_test_split\n",
    "from sklearn.feature_extraction.text import TfidfVectorizer\n",
    "from sklearn.tree import DecisionTreeClassifier\n",
    "from sklearn.tree import ExtraTreeClassifier\n",
    "from sklearn.metrics import classification_report\n",
    "import warnings\n",
    "warnings.filterwarnings('ignore')\n",
    "from sklearn import metrics\n",
    "from sklearn.metrics import roc_auc_score\n",
    "from sklearn.ensemble import RandomForestClassifier"
   ]
  },
  {
   "cell_type": "markdown",
   "metadata": {},
   "source": [
    "### Load the data in"
   ]
  },
  {
   "cell_type": "code",
   "execution_count": 2,
   "metadata": {
    "collapsed": true
   },
   "outputs": [],
   "source": [
    "train = pd.read_csv('train.csv')\n",
    "test = pd.read_csv('test.csv')"
   ]
  },
  {
   "cell_type": "code",
   "execution_count": 3,
   "metadata": {},
   "outputs": [
    {
     "name": "stdout",
     "output_type": "stream",
     "text": [
      "0\n",
      "0\n"
     ]
    }
   ],
   "source": [
    "train_nan = train.isnull().sum().sum()\n",
    "test_nan = test.isnull().sum().sum()\n",
    "print(train_nan)\n",
    "print(test_nan)\n",
    "\n",
    "# the dataset has 0 Nan, so there's no missing values to deal with. "
   ]
  },
  {
   "cell_type": "markdown",
   "metadata": {},
   "source": [
    "### Visualize the tabular format of the data"
   ]
  },
  {
   "cell_type": "code",
   "execution_count": 4,
   "metadata": {},
   "outputs": [
    {
     "name": "stdout",
     "output_type": "stream",
     "text": [
      "train shape (159571, 8)\n"
     ]
    },
    {
     "data": {
      "text/html": [
       "<div>\n",
       "<style>\n",
       "    .dataframe thead tr:only-child th {\n",
       "        text-align: right;\n",
       "    }\n",
       "\n",
       "    .dataframe thead th {\n",
       "        text-align: left;\n",
       "    }\n",
       "\n",
       "    .dataframe tbody tr th {\n",
       "        vertical-align: top;\n",
       "    }\n",
       "</style>\n",
       "<table border=\"1\" class=\"dataframe\">\n",
       "  <thead>\n",
       "    <tr style=\"text-align: right;\">\n",
       "      <th></th>\n",
       "      <th>id</th>\n",
       "      <th>comment_text</th>\n",
       "      <th>toxic</th>\n",
       "      <th>severe_toxic</th>\n",
       "      <th>obscene</th>\n",
       "      <th>threat</th>\n",
       "      <th>insult</th>\n",
       "      <th>identity_hate</th>\n",
       "    </tr>\n",
       "  </thead>\n",
       "  <tbody>\n",
       "    <tr>\n",
       "      <th>0</th>\n",
       "      <td>0000997932d777bf</td>\n",
       "      <td>Explanation\\nWhy the edits made under my usern...</td>\n",
       "      <td>0</td>\n",
       "      <td>0</td>\n",
       "      <td>0</td>\n",
       "      <td>0</td>\n",
       "      <td>0</td>\n",
       "      <td>0</td>\n",
       "    </tr>\n",
       "    <tr>\n",
       "      <th>1</th>\n",
       "      <td>000103f0d9cfb60f</td>\n",
       "      <td>D'aww! He matches this background colour I'm s...</td>\n",
       "      <td>0</td>\n",
       "      <td>0</td>\n",
       "      <td>0</td>\n",
       "      <td>0</td>\n",
       "      <td>0</td>\n",
       "      <td>0</td>\n",
       "    </tr>\n",
       "    <tr>\n",
       "      <th>2</th>\n",
       "      <td>000113f07ec002fd</td>\n",
       "      <td>Hey man, I'm really not trying to edit war. It...</td>\n",
       "      <td>0</td>\n",
       "      <td>0</td>\n",
       "      <td>0</td>\n",
       "      <td>0</td>\n",
       "      <td>0</td>\n",
       "      <td>0</td>\n",
       "    </tr>\n",
       "    <tr>\n",
       "      <th>3</th>\n",
       "      <td>0001b41b1c6bb37e</td>\n",
       "      <td>\"\\nMore\\nI can't make any real suggestions on ...</td>\n",
       "      <td>0</td>\n",
       "      <td>0</td>\n",
       "      <td>0</td>\n",
       "      <td>0</td>\n",
       "      <td>0</td>\n",
       "      <td>0</td>\n",
       "    </tr>\n",
       "    <tr>\n",
       "      <th>4</th>\n",
       "      <td>0001d958c54c6e35</td>\n",
       "      <td>You, sir, are my hero. Any chance you remember...</td>\n",
       "      <td>0</td>\n",
       "      <td>0</td>\n",
       "      <td>0</td>\n",
       "      <td>0</td>\n",
       "      <td>0</td>\n",
       "      <td>0</td>\n",
       "    </tr>\n",
       "  </tbody>\n",
       "</table>\n",
       "</div>"
      ],
      "text/plain": [
       "                 id                                       comment_text  toxic  \\\n",
       "0  0000997932d777bf  Explanation\\nWhy the edits made under my usern...      0   \n",
       "1  000103f0d9cfb60f  D'aww! He matches this background colour I'm s...      0   \n",
       "2  000113f07ec002fd  Hey man, I'm really not trying to edit war. It...      0   \n",
       "3  0001b41b1c6bb37e  \"\\nMore\\nI can't make any real suggestions on ...      0   \n",
       "4  0001d958c54c6e35  You, sir, are my hero. Any chance you remember...      0   \n",
       "\n",
       "   severe_toxic  obscene  threat  insult  identity_hate  \n",
       "0             0        0       0       0              0  \n",
       "1             0        0       0       0              0  \n",
       "2             0        0       0       0              0  \n",
       "3             0        0       0       0              0  \n",
       "4             0        0       0       0              0  "
      ]
     },
     "execution_count": 4,
     "metadata": {},
     "output_type": "execute_result"
    }
   ],
   "source": [
    "print('train shape', train.shape)\n",
    "train.head()"
   ]
  },
  {
   "cell_type": "code",
   "execution_count": 5,
   "metadata": {},
   "outputs": [
    {
     "name": "stdout",
     "output_type": "stream",
     "text": [
      "test shape (153164, 2)\n"
     ]
    },
    {
     "data": {
      "text/html": [
       "<div>\n",
       "<style>\n",
       "    .dataframe thead tr:only-child th {\n",
       "        text-align: right;\n",
       "    }\n",
       "\n",
       "    .dataframe thead th {\n",
       "        text-align: left;\n",
       "    }\n",
       "\n",
       "    .dataframe tbody tr th {\n",
       "        vertical-align: top;\n",
       "    }\n",
       "</style>\n",
       "<table border=\"1\" class=\"dataframe\">\n",
       "  <thead>\n",
       "    <tr style=\"text-align: right;\">\n",
       "      <th></th>\n",
       "      <th>id</th>\n",
       "      <th>comment_text</th>\n",
       "    </tr>\n",
       "  </thead>\n",
       "  <tbody>\n",
       "    <tr>\n",
       "      <th>0</th>\n",
       "      <td>00001cee341fdb12</td>\n",
       "      <td>Yo bitch Ja Rule is more succesful then you'll...</td>\n",
       "    </tr>\n",
       "    <tr>\n",
       "      <th>1</th>\n",
       "      <td>0000247867823ef7</td>\n",
       "      <td>== From RfC == \\n\\n The title is fine as it is...</td>\n",
       "    </tr>\n",
       "    <tr>\n",
       "      <th>2</th>\n",
       "      <td>00013b17ad220c46</td>\n",
       "      <td>\" \\n\\n == Sources == \\n\\n * Zawe Ashton on Lap...</td>\n",
       "    </tr>\n",
       "    <tr>\n",
       "      <th>3</th>\n",
       "      <td>00017563c3f7919a</td>\n",
       "      <td>:If you have a look back at the source, the in...</td>\n",
       "    </tr>\n",
       "    <tr>\n",
       "      <th>4</th>\n",
       "      <td>00017695ad8997eb</td>\n",
       "      <td>I don't anonymously edit articles at all.</td>\n",
       "    </tr>\n",
       "  </tbody>\n",
       "</table>\n",
       "</div>"
      ],
      "text/plain": [
       "                 id                                       comment_text\n",
       "0  00001cee341fdb12  Yo bitch Ja Rule is more succesful then you'll...\n",
       "1  0000247867823ef7  == From RfC == \\n\\n The title is fine as it is...\n",
       "2  00013b17ad220c46  \" \\n\\n == Sources == \\n\\n * Zawe Ashton on Lap...\n",
       "3  00017563c3f7919a  :If you have a look back at the source, the in...\n",
       "4  00017695ad8997eb          I don't anonymously edit articles at all."
      ]
     },
     "execution_count": 5,
     "metadata": {},
     "output_type": "execute_result"
    }
   ],
   "source": [
    "print('test shape', test.shape)\n",
    "test.head()"
   ]
  },
  {
   "cell_type": "code",
   "execution_count": 6,
   "metadata": {},
   "outputs": [
    {
     "name": "stdout",
     "output_type": "stream",
     "text": [
      "Toxic Comments: 15294\n",
      "Non-Toxic Comments: 144277 \n",
      "\n",
      "Sever Toxic Comments: 1595\n",
      "Non-Severe Toxic Comments: 157976 \n",
      "\n",
      "Obscene Comments: 8449\n",
      "Not_Obscene Comments: 151122 \n",
      "\n",
      "Threat Comments: 478\n",
      "Not Threat Comments: 159093 \n",
      "\n",
      "Insult Comments: 7877\n",
      "Non-Insult Comments: 151694 \n",
      "\n",
      "Identity_Hate Comments: 1405\n",
      "Not-Identity_Hate Comments: 158166\n"
     ]
    }
   ],
   "source": [
    "Non_Toxic, Toxic = train.toxic.value_counts()\n",
    "Non_Severe_Toxic, Severe_Toxic = train.severe_toxic.value_counts()\n",
    "Not_Obscene, Obscene = train.obscene.value_counts()\n",
    "Not_Threat, Threat = train.threat.value_counts()\n",
    "Not_Insult, Insult = train.insult.value_counts()\n",
    "Not_Identity_Hate, Identity_Hate = train.identity_hate.value_counts()\n",
    "\n",
    "print (\"Toxic Comments: {}\".format(Toxic))\n",
    "print (\"Non-Toxic Comments: {} \\n\".format(Non_Toxic))\n",
    "print (\"Sever Toxic Comments: {}\".format(Severe_Toxic))\n",
    "print (\"Non-Severe Toxic Comments: {} \\n\".format(Non_Severe_Toxic))\n",
    "print (\"Obscene Comments: {}\".format(Obscene))\n",
    "print (\"Not_Obscene Comments: {} \\n\".format(Not_Obscene))\n",
    "print (\"Threat Comments: {}\".format(Threat))\n",
    "print (\"Not Threat Comments: {} \\n\".format(Not_Threat))\n",
    "print (\"Insult Comments: {}\".format(Insult))\n",
    "print (\"Non-Insult Comments: {} \\n\".format(Not_Insult))\n",
    "print (\"Identity_Hate Comments: {}\".format(Identity_Hate))\n",
    "print (\"Not-Identity_Hate Comments: {}\".format(Not_Identity_Hate))"
   ]
  },
  {
   "cell_type": "markdown",
   "metadata": {},
   "source": [
    "### Percentage of each feature"
   ]
  },
  {
   "cell_type": "code",
   "execution_count": 7,
   "metadata": {},
   "outputs": [
    {
     "data": {
      "text/plain": [
       "toxic            0.095844\n",
       "severe_toxic     0.009996\n",
       "obscene          0.052948\n",
       "threat           0.002996\n",
       "insult           0.049364\n",
       "identity_hate    0.008805\n",
       "dtype: float64"
      ]
     },
     "metadata": {},
     "output_type": "display_data"
    }
   ],
   "source": [
    "features = [\"toxic\", \"severe_toxic\", \"obscene\", \"threat\", \"insult\", \"identity_hate\"]\n",
    "train_features = train.loc[:,features]\n",
    "train_percent = train_features.sum()/len(train)\n",
    "display(train_percent)"
   ]
  },
  {
   "cell_type": "code",
   "execution_count": 8,
   "metadata": {},
   "outputs": [
    {
     "data": {
      "text/plain": [
       "<matplotlib.axes._subplots.AxesSubplot at 0x256ba1939b0>"
      ]
     },
     "execution_count": 8,
     "metadata": {},
     "output_type": "execute_result"
    },
    {
     "data": {
      "image/png": "[encoded data removed]",
      "text/plain": [
       "<matplotlib.figure.Figure at 0x256c27041d0>"
      ]
     },
     "metadata": {},
     "output_type": "display_data"
    }
   ],
   "source": [
    "#Visualize the corrolation between the features in a heatmap\n",
    "plt.figure(figsize=(14,8))\n",
    "sns.heatmap(train.corr(),annot=True, cmap=\"YlGnBu\")"
   ]
  },
  {
   "cell_type": "markdown",
   "metadata": {},
   "source": [
    "### Normalizing & Tokenization of the comments\n",
    " - By removing non-alphanumeric characters, diacritical marks, regular expressions and transforming all letters to the lower form. \n",
    " "
   ]
  },
  {
   "cell_type": "code",
   "execution_count": 9,
   "metadata": {
    "collapsed": true
   },
   "outputs": [],
   "source": [
    "#ceate function for normalizing the comments\n",
    "def comments_normalize(df):\n",
    "    df['comment_text'] = df['comment_text'].apply(lambda x: str(x))\n",
    "    df['comment_text'] = df['comment_text'].apply(lambda x: x.lower())\n",
    "    df['comment_text'] = df['comment_text'].apply(lambda x: x.translate(str.maketrans('','',string.punctuation)))\n",
    "    df['comment_text'] = df['comment_text'].apply(lambda x: x.replace('\\n',''))\n",
    "    df['comment_text'] = df['comment_text'].apply(lambda x: x.replace('\\r',''))\n",
    "    return df\n",
    "\n",
    "train = comments_normalize(train)\n",
    "test = comments_normalize(test)"
   ]
  },
  {
   "cell_type": "markdown",
   "metadata": {},
   "source": [
    "### Data after Normalization"
   ]
  },
  {
   "cell_type": "code",
   "execution_count": 10,
   "metadata": {},
   "outputs": [
    {
     "name": "stdout",
     "output_type": "stream",
     "text": [
      "train shape (159571, 8)\n"
     ]
    },
    {
     "data": {
      "text/html": [
       "<div>\n",
       "<style>\n",
       "    .dataframe thead tr:only-child th {\n",
       "        text-align: right;\n",
       "    }\n",
       "\n",
       "    .dataframe thead th {\n",
       "        text-align: left;\n",
       "    }\n",
       "\n",
       "    .dataframe tbody tr th {\n",
       "        vertical-align: top;\n",
       "    }\n",
       "</style>\n",
       "<table border=\"1\" class=\"dataframe\">\n",
       "  <thead>\n",
       "    <tr style=\"text-align: right;\">\n",
       "      <th></th>\n",
       "      <th>id</th>\n",
       "      <th>comment_text</th>\n",
       "      <th>toxic</th>\n",
       "      <th>severe_toxic</th>\n",
       "      <th>obscene</th>\n",
       "      <th>threat</th>\n",
       "      <th>insult</th>\n",
       "      <th>identity_hate</th>\n",
       "    </tr>\n",
       "  </thead>\n",
       "  <tbody>\n",
       "    <tr>\n",
       "      <th>0</th>\n",
       "      <td>0000997932d777bf</td>\n",
       "      <td>explanationwhy the edits made under my usernam...</td>\n",
       "      <td>0</td>\n",
       "      <td>0</td>\n",
       "      <td>0</td>\n",
       "      <td>0</td>\n",
       "      <td>0</td>\n",
       "      <td>0</td>\n",
       "    </tr>\n",
       "    <tr>\n",
       "      <th>1</th>\n",
       "      <td>000103f0d9cfb60f</td>\n",
       "      <td>daww he matches this background colour im seem...</td>\n",
       "      <td>0</td>\n",
       "      <td>0</td>\n",
       "      <td>0</td>\n",
       "      <td>0</td>\n",
       "      <td>0</td>\n",
       "      <td>0</td>\n",
       "    </tr>\n",
       "    <tr>\n",
       "      <th>2</th>\n",
       "      <td>000113f07ec002fd</td>\n",
       "      <td>hey man im really not trying to edit war its j...</td>\n",
       "      <td>0</td>\n",
       "      <td>0</td>\n",
       "      <td>0</td>\n",
       "      <td>0</td>\n",
       "      <td>0</td>\n",
       "      <td>0</td>\n",
       "    </tr>\n",
       "    <tr>\n",
       "      <th>3</th>\n",
       "      <td>0001b41b1c6bb37e</td>\n",
       "      <td>morei cant make any real suggestions on improv...</td>\n",
       "      <td>0</td>\n",
       "      <td>0</td>\n",
       "      <td>0</td>\n",
       "      <td>0</td>\n",
       "      <td>0</td>\n",
       "      <td>0</td>\n",
       "    </tr>\n",
       "    <tr>\n",
       "      <th>4</th>\n",
       "      <td>0001d958c54c6e35</td>\n",
       "      <td>you sir are my hero any chance you remember wh...</td>\n",
       "      <td>0</td>\n",
       "      <td>0</td>\n",
       "      <td>0</td>\n",
       "      <td>0</td>\n",
       "      <td>0</td>\n",
       "      <td>0</td>\n",
       "    </tr>\n",
       "  </tbody>\n",
       "</table>\n",
       "</div>"
      ],
      "text/plain": [
       "                 id                                       comment_text  toxic  \\\n",
       "0  0000997932d777bf  explanationwhy the edits made under my usernam...      0   \n",
       "1  000103f0d9cfb60f  daww he matches this background colour im seem...      0   \n",
       "2  000113f07ec002fd  hey man im really not trying to edit war its j...      0   \n",
       "3  0001b41b1c6bb37e  morei cant make any real suggestions on improv...      0   \n",
       "4  0001d958c54c6e35  you sir are my hero any chance you remember wh...      0   \n",
       "\n",
       "   severe_toxic  obscene  threat  insult  identity_hate  \n",
       "0             0        0       0       0              0  \n",
       "1             0        0       0       0              0  \n",
       "2             0        0       0       0              0  \n",
       "3             0        0       0       0              0  \n",
       "4             0        0       0       0              0  "
      ]
     },
     "execution_count": 10,
     "metadata": {},
     "output_type": "execute_result"
    }
   ],
   "source": [
    "print('train shape', train.shape)\n",
    "train.head()"
   ]
  },
  {
   "cell_type": "code",
   "execution_count": 11,
   "metadata": {},
   "outputs": [
    {
     "name": "stdout",
     "output_type": "stream",
     "text": [
      "test shape (153164, 2)\n"
     ]
    },
    {
     "data": {
      "text/html": [
       "<div>\n",
       "<style>\n",
       "    .dataframe thead tr:only-child th {\n",
       "        text-align: right;\n",
       "    }\n",
       "\n",
       "    .dataframe thead th {\n",
       "        text-align: left;\n",
       "    }\n",
       "\n",
       "    .dataframe tbody tr th {\n",
       "        vertical-align: top;\n",
       "    }\n",
       "</style>\n",
       "<table border=\"1\" class=\"dataframe\">\n",
       "  <thead>\n",
       "    <tr style=\"text-align: right;\">\n",
       "      <th></th>\n",
       "      <th>id</th>\n",
       "      <th>comment_text</th>\n",
       "    </tr>\n",
       "  </thead>\n",
       "  <tbody>\n",
       "    <tr>\n",
       "      <th>0</th>\n",
       "      <td>00001cee341fdb12</td>\n",
       "      <td>yo bitch ja rule is more succesful then youll ...</td>\n",
       "    </tr>\n",
       "    <tr>\n",
       "      <th>1</th>\n",
       "      <td>0000247867823ef7</td>\n",
       "      <td>from rfc   the title is fine as it is imo</td>\n",
       "    </tr>\n",
       "    <tr>\n",
       "      <th>2</th>\n",
       "      <td>00013b17ad220c46</td>\n",
       "      <td>sources    zawe ashton on lapland —</td>\n",
       "    </tr>\n",
       "    <tr>\n",
       "      <th>3</th>\n",
       "      <td>00017563c3f7919a</td>\n",
       "      <td>if you have a look back at the source the info...</td>\n",
       "    </tr>\n",
       "    <tr>\n",
       "      <th>4</th>\n",
       "      <td>00017695ad8997eb</td>\n",
       "      <td>i dont anonymously edit articles at all</td>\n",
       "    </tr>\n",
       "  </tbody>\n",
       "</table>\n",
       "</div>"
      ],
      "text/plain": [
       "                 id                                       comment_text\n",
       "0  00001cee341fdb12  yo bitch ja rule is more succesful then youll ...\n",
       "1  0000247867823ef7          from rfc   the title is fine as it is imo\n",
       "2  00013b17ad220c46            sources    zawe ashton on lapland —    \n",
       "3  00017563c3f7919a  if you have a look back at the source the info...\n",
       "4  00017695ad8997eb            i dont anonymously edit articles at all"
      ]
     },
     "execution_count": 11,
     "metadata": {},
     "output_type": "execute_result"
    }
   ],
   "source": [
    "print('test shape', test.shape)\n",
    "test.head()"
   ]
  },
  {
   "cell_type": "markdown",
   "metadata": {},
   "source": [
    "### Vectorization of the text data\n",
    " - By turning a collection of text documents into numerical feature vectors\n"
   ]
  },
  {
   "cell_type": "code",
   "execution_count": 12,
   "metadata": {},
   "outputs": [
    {
     "data": {
      "text/plain": [
       "article      3057.090261\n",
       "page         2884.445414\n",
       "talk         2634.319560\n",
       "wikipedia    2201.580624\n",
       "just         1951.449653\n",
       "dont         1919.895658\n",
       "like         1825.049362\n",
       "im           1580.932209\n",
       "thanks       1570.049187\n",
       "edit         1555.745150\n",
       "think        1511.057029\n",
       "know         1496.911880\n",
       "did          1356.790248\n",
       "articles     1220.512918\n",
       "people       1190.651135\n",
       "use          1168.678104\n",
       "time         1133.118205\n",
       "good         1128.505718\n",
       "editing      1117.715500\n",
       "thank        1091.542278\n",
       "Name: 0, dtype: float64"
      ]
     },
     "execution_count": 12,
     "metadata": {},
     "output_type": "execute_result"
    }
   ],
   "source": [
    "vectorizer = TfidfVectorizer(stop_words='english')\n",
    "vect_train_comments = vectorizer.fit_transform(train['comment_text'])\n",
    "\n",
    "pd.DataFrame(vect_train_comments.sum(axis=0).T, index=vectorizer.get_feature_names())[0]\\\n",
    "    .sort_values(ascending=False)[:20]"
   ]
  },
  {
   "cell_type": "markdown",
   "metadata": {},
   "source": [
    "### Shuffle Split the data, then train three different predictive models"
   ]
  },
  {
   "cell_type": "code",
   "execution_count": 13,
   "metadata": {
    "collapsed": true
   },
   "outputs": [],
   "source": [
    "#shuffle split\n",
    "train_x, test_x, train_y, test_y = train_test_split(vect_train_comments, train[features], test_size=0.33)\n",
    "\n",
    "#fit the training data to three calssifiers\n",
    "clf_A = DecisionTreeClassifier()\n",
    "clf_A.fit(train_x, train_y)\n",
    "clf_B = ExtraTreeClassifier()\n",
    "clf_B.fit(train_x, train_y)\n",
    "\n",
    "#predict on the evaluation set\n",
    "predictions_A = clf_A.predict(test_x)\n",
    "predictions_B = clf_B.predict(test_x)\n"
   ]
  },
  {
   "cell_type": "code",
   "execution_count": 14,
   "metadata": {
    "collapsed": true
   },
   "outputs": [],
   "source": [
    "from sklearn.ensemble import RandomForestClassifier\n",
    "\n",
    "clf_C = RandomForestClassifier()\n",
    "clf_C.fit(train_x, train_y)\n",
    "predictions_C = clf_C.predict(test_x)"
   ]
  },
  {
   "cell_type": "code",
   "execution_count": 15,
   "metadata": {},
   "outputs": [
    {
     "name": "stdout",
     "output_type": "stream",
     "text": [
      "(106912, 301031)\n",
      "(106912, 6)\n"
     ]
    }
   ],
   "source": [
    "print(train_x.shape)\n",
    "print(train_y.shape)"
   ]
  },
  {
   "cell_type": "markdown",
   "metadata": {},
   "source": [
    "### Compare the performance of the three models"
   ]
  },
  {
   "cell_type": "code",
   "execution_count": 16,
   "metadata": {},
   "outputs": [
    {
     "name": "stdout",
     "output_type": "stream",
     "text": [
      "performnce metrics of the DecisionTree classifier:\n",
      "Metrics: \n",
      "              precision    recall  f1-score   support\n",
      "\n",
      "          0       0.73      0.64      0.68      5085\n",
      "          1       0.34      0.19      0.25       567\n",
      "          2       0.77      0.73      0.75      2854\n",
      "          3       0.27      0.17      0.21       150\n",
      "          4       0.63      0.57      0.60      2658\n",
      "          5       0.39      0.24      0.30       488\n",
      "\n",
      "avg / total       0.68      0.60      0.64     11802\n",
      "\n",
      "ROC & AUC: 0.7069122343305251 \n",
      " ______________________________________ \n",
      "\n",
      "performnce metrics of the ExtraTree classifier:\n",
      "Metrics: \n",
      "              precision    recall  f1-score   support\n",
      "\n",
      "          0       0.60      0.61      0.60      5085\n",
      "          1       0.21      0.17      0.19       567\n",
      "          2       0.56      0.57      0.57      2854\n",
      "          3       0.12      0.11      0.11       150\n",
      "          4       0.48      0.46      0.47      2658\n",
      "          5       0.23      0.26      0.24       488\n",
      "\n",
      "avg / total       0.52      0.52      0.52     11802\n",
      "\n",
      "ROC & AUC: 0.6723530760934282 \n",
      " ______________________________________ \n",
      "\n",
      "performnce metrics of the RandomForest classifier:\n",
      "Metrics: \n",
      "              precision    recall  f1-score   support\n",
      "\n",
      "          0       0.88      0.55      0.68      5085\n",
      "          1       0.43      0.09      0.15       567\n",
      "          2       0.89      0.58      0.70      2854\n",
      "          3       0.57      0.05      0.10       150\n",
      "          4       0.78      0.43      0.55      2658\n",
      "          5       0.65      0.09      0.16       488\n",
      "\n",
      "avg / total       0.83      0.48      0.60     11802\n",
      "\n",
      "ROC & AUC: 0.6482420268501728\n"
     ]
    }
   ],
   "source": [
    "my_metrics_A = metrics.classification_report(test_y, predictions_A)\n",
    "ROC_AUC_A = roc_auc_score(test_y, predictions_A)\n",
    "print('performnce metrics of the DecisionTree classifier:') \n",
    "print (\"Metrics: \\n {}\".format(my_metrics_A))\n",
    "print('ROC & AUC: {} \\n ______________________________________ \\n'. format(ROC_AUC_A))\n",
    "\n",
    "my_metrics_B = metrics.classification_report(test_y, predictions_B)\n",
    "ROC_AUC_B = roc_auc_score(test_y, predictions_B)\n",
    "print('performnce metrics of the ExtraTree classifier:') \n",
    "print (\"Metrics: \\n {}\".format(my_metrics_B))\n",
    "print('ROC & AUC: {} \\n ______________________________________ \\n'. format(ROC_AUC_B))\n",
    "\n",
    "my_metrics_C = metrics.classification_report(test_y, predictions_C)\n",
    "ROC_AUC_C = roc_auc_score(test_y, predictions_C)\n",
    "print('performnce metrics of the RandomForest classifier:') \n",
    "print (\"Metrics: \\n {}\".format(my_metrics_C))\n",
    "print('ROC & AUC: {}'. format(ROC_AUC_C))\n",
    "\n"
   ]
  },
  {
   "cell_type": "markdown",
   "metadata": {},
   "source": [
    "### Parameter Tuning"
   ]
  },
  {
   "cell_type": "code",
   "execution_count": 26,
   "metadata": {
    "scrolled": false
   },
   "outputs": [
    {
     "name": "stdout",
     "output_type": "stream",
     "text": [
      "# Tuning hyper-parameters for precision\n",
      "\n",
      "Best parameters set found on development set:\n",
      "\n",
      "{'criterion': 'entropy', 'max_depth': 7}\n",
      "\n",
      "Grid scores on development set:\n",
      "\n",
      "0.122 (+/-0.229) for {'criterion': 'gini', 'max_depth': None}\n",
      "0.167 (+/-0.422) for {'criterion': 'gini', 'max_depth': 1}\n",
      "0.117 (+/-0.291) for {'criterion': 'gini', 'max_depth': 2}\n",
      "0.150 (+/-0.400) for {'criterion': 'gini', 'max_depth': 3}\n",
      "0.150 (+/-0.400) for {'criterion': 'gini', 'max_depth': 4}\n",
      "0.150 (+/-0.400) for {'criterion': 'gini', 'max_depth': 5}\n",
      "0.200 (+/-0.389) for {'criterion': 'gini', 'max_depth': 6}\n",
      "0.183 (+/-0.371) for {'criterion': 'gini', 'max_depth': 7}\n",
      "0.167 (+/-0.365) for {'criterion': 'gini', 'max_depth': 8}\n",
      "0.161 (+/-0.366) for {'criterion': 'gini', 'max_depth': 9}\n",
      "0.161 (+/-0.366) for {'criterion': 'gini', 'max_depth': 10}\n",
      "0.167 (+/-0.300) for {'criterion': 'entropy', 'max_depth': None}\n",
      "0.167 (+/-0.422) for {'criterion': 'entropy', 'max_depth': 1}\n",
      "0.117 (+/-0.291) for {'criterion': 'entropy', 'max_depth': 2}\n",
      "0.150 (+/-0.400) for {'criterion': 'entropy', 'max_depth': 3}\n",
      "0.133 (+/-0.249) for {'criterion': 'entropy', 'max_depth': 4}\n",
      "0.183 (+/-0.371) for {'criterion': 'entropy', 'max_depth': 5}\n",
      "0.200 (+/-0.374) for {'criterion': 'entropy', 'max_depth': 6}\n",
      "0.217 (+/-0.374) for {'criterion': 'entropy', 'max_depth': 7}\n",
      "0.183 (+/-0.323) for {'criterion': 'entropy', 'max_depth': 8}\n",
      "0.194 (+/-0.377) for {'criterion': 'entropy', 'max_depth': 9}\n",
      "0.144 (+/-0.305) for {'criterion': 'entropy', 'max_depth': 10}\n",
      "\n",
      "Detailed classification report:\n",
      "\n",
      "The model is trained on the full development set.\n",
      "The scores are computed on the full evaluation set.\n",
      "\n",
      "             precision    recall  f1-score   support\n",
      "\n",
      "          0       1.00      0.23      0.37        22\n",
      "          1       0.00      0.00      0.00         2\n",
      "          2       0.67      0.15      0.25        13\n",
      "          3       0.00      0.00      0.00         2\n",
      "          4       0.33      0.08      0.13        12\n",
      "          5       0.00      0.00      0.00         3\n",
      "\n",
      "avg / total       0.64      0.15      0.24        54\n",
      "\n",
      "\n",
      "# Tuning hyper-parameters for recall\n",
      "\n",
      "Best parameters set found on development set:\n",
      "\n",
      "{'criterion': 'entropy', 'max_depth': None}\n",
      "\n",
      "Grid scores on development set:\n",
      "\n",
      "0.096 (+/-0.213) for {'criterion': 'gini', 'max_depth': None}\n",
      "0.068 (+/-0.220) for {'criterion': 'gini', 'max_depth': 1}\n",
      "0.051 (+/-0.155) for {'criterion': 'gini', 'max_depth': 2}\n",
      "0.068 (+/-0.220) for {'criterion': 'gini', 'max_depth': 3}\n",
      "0.068 (+/-0.220) for {'criterion': 'gini', 'max_depth': 4}\n",
      "0.068 (+/-0.220) for {'criterion': 'gini', 'max_depth': 5}\n",
      "0.096 (+/-0.213) for {'criterion': 'gini', 'max_depth': 6}\n",
      "0.096 (+/-0.213) for {'criterion': 'gini', 'max_depth': 7}\n",
      "0.096 (+/-0.213) for {'criterion': 'gini', 'max_depth': 8}\n",
      "0.096 (+/-0.213) for {'criterion': 'gini', 'max_depth': 9}\n",
      "0.096 (+/-0.213) for {'criterion': 'gini', 'max_depth': 10}\n",
      "0.108 (+/-0.207) for {'criterion': 'entropy', 'max_depth': None}\n",
      "0.068 (+/-0.220) for {'criterion': 'entropy', 'max_depth': 1}\n",
      "0.051 (+/-0.155) for {'criterion': 'entropy', 'max_depth': 2}\n",
      "0.068 (+/-0.220) for {'criterion': 'entropy', 'max_depth': 3}\n",
      "0.056 (+/-0.150) for {'criterion': 'entropy', 'max_depth': 4}\n",
      "0.076 (+/-0.212) for {'criterion': 'entropy', 'max_depth': 5}\n",
      "0.101 (+/-0.218) for {'criterion': 'entropy', 'max_depth': 6}\n",
      "0.101 (+/-0.218) for {'criterion': 'entropy', 'max_depth': 7}\n",
      "0.101 (+/-0.218) for {'criterion': 'entropy', 'max_depth': 8}\n",
      "0.101 (+/-0.218) for {'criterion': 'entropy', 'max_depth': 9}\n",
      "0.084 (+/-0.167) for {'criterion': 'entropy', 'max_depth': 10}\n",
      "\n",
      "Detailed classification report:\n",
      "\n",
      "The model is trained on the full development set.\n",
      "The scores are computed on the full evaluation set.\n",
      "\n",
      "             precision    recall  f1-score   support\n",
      "\n",
      "          0       0.71      0.23      0.34        22\n",
      "          1       0.00      0.00      0.00         2\n",
      "          2       0.67      0.31      0.42        13\n",
      "          3       0.00      0.00      0.00         2\n",
      "          4       0.60      0.25      0.35        12\n",
      "          5       0.00      0.00      0.00         3\n",
      "\n",
      "avg / total       0.58      0.22      0.32        54\n",
      "\n",
      "\n"
     ]
    }
   ],
   "source": [
    "# Set the parameters by cross-validation\n",
    "Parameters =  {'criterion': ['gini', 'entropy'],\n",
    "               'max_depth': [None, 1, 2, 3, 4, 5, 6, 7, 8, 9, 10]}\n",
    "\n",
    "\n",
    "scores = ['precision', 'recall']\n",
    "\n",
    "for score in scores:\n",
    "    print(\"# Tuning hyper-parameters for %s\" % score)\n",
    "    print()\n",
    "    \n",
    "    # Perform grid search on the classifier using 'scores' as the scoring method\n",
    "    clf = DecisionTreeClassifier(random_state=3)\n",
    "    \n",
    "    clf = GridSearchCV(estimator=clf, param_grid=Parameters, cv=5,\n",
    "                       scoring='%s_macro' % score, n_jobs=2)\n",
    "    clf.fit(train_x[:300], train_y[:300])\n",
    "\n",
    "    print(\"Best parameters set found on development set:\")\n",
    "    print()\n",
    "    print(clf.best_params_)\n",
    "    print()\n",
    "    print(\"Grid scores on development set:\")\n",
    "    print()\n",
    "    means = clf.cv_results_['mean_test_score']\n",
    "    stds = clf.cv_results_['std_test_score']\n",
    "    for mean, std, params in zip(means, stds, clf.cv_results_['params']):\n",
    "        print(\"%0.3f (+/-%0.03f) for %r\"\n",
    "              % (mean, std * 2, params))\n",
    "    print()\n",
    "\n",
    "    print(\"Detailed classification report:\")\n",
    "    print()\n",
    "    print(\"The model is trained on the full development set.\")\n",
    "    print(\"The scores are computed on the full evaluation set.\")\n",
    "    print()\n",
    "    y_true, y_pred = test_y[:300], clf.predict(test_x[:300])\n",
    "    # Make predictions using the optimized model\n",
    "    print(classification_report(y_true, y_pred))\n",
    "    print()\n",
    "    "
   ]
  },
  {
   "cell_type": "markdown",
   "metadata": {},
   "source": [
    "### The before and after Optimization"
   ]
  },
  {
   "cell_type": "code",
   "execution_count": 42,
   "metadata": {
    "collapsed": true
   },
   "outputs": [],
   "source": [
    "dtc_before = DecisionTreeClassifier(criterion='gini', max_depth=None, random_state=42)\n",
    "dtc_before.fit(train_x, train_y)\n",
    "dtc_after = DecisionTreeClassifier(criterion='entropy', max_depth=7, random_state=42) \n",
    "dtc_after.fit(train_x, train_y)\n",
    "\n",
    "\n",
    "pred_dtc_before = dtc_before.predict(test_x)\n",
    "pred_dtc_after = dtc_after.predict(test_x)"
   ]
  },
  {
   "cell_type": "code",
   "execution_count": 43,
   "metadata": {},
   "outputs": [
    {
     "name": "stdout",
     "output_type": "stream",
     "text": [
      "Unoptimized model\n",
      "------\n",
      "performnce metrics of the Un-optimized model - DecisionTreeClassifier(criterion='gini', max_depth=None):\n",
      "Metrics: \n",
      "              precision    recall  f1-score   support\n",
      "\n",
      "          0       0.73      0.64      0.68      5085\n",
      "          1       0.32      0.19      0.24       567\n",
      "          2       0.77      0.72      0.74      2854\n",
      "          3       0.30      0.17      0.22       150\n",
      "          4       0.63      0.57      0.60      2658\n",
      "          5       0.38      0.22      0.28       488\n",
      "\n",
      "avg / total       0.68      0.60      0.64     11802\n",
      "\n",
      "ROC & AUC score: 0.7050707104671221 \n",
      "\n",
      "____________________________________________________________________________________________________________\n",
      "\n",
      " Optimized Model\n",
      "------\n",
      "performnce metrics of the Optimized model - DecisionTreeClassifier(criterion='entropy', max_depth=7):\n",
      "Metrics: \n",
      "              precision    recall  f1-score   support\n",
      "\n",
      "          0       0.89      0.39      0.54      5085\n",
      "          1       0.50      0.05      0.10       567\n",
      "          2       0.84      0.57      0.68      2854\n",
      "          3       0.40      0.01      0.03       150\n",
      "          4       0.70      0.43      0.54      2658\n",
      "          5       0.65      0.05      0.08       488\n",
      "\n",
      "avg / total       0.80      0.41      0.53     11802\n",
      "\n",
      "ROC & AUC score: 0.6240105956400769 \n",
      "\n"
     ]
    }
   ],
   "source": [
    "dt_before = metrics.classification_report( test_y, pred_dtc_before)\n",
    "ROC_AUC_dt_before = roc_auc_score(test_y, pred_dtc_before)\n",
    "print (\"Unoptimized model\\n------\")\n",
    "print(\"performnce metrics of the Un-optimized model - DecisionTreeClassifier(criterion='gini', max_depth=None):\")\n",
    "print (\"Metrics: \\n {}\".format(dt_before))\n",
    "print('ROC & AUC score: {} \\n'. format(ROC_AUC_dt_before))\n",
    "\n",
    "\n",
    "\n",
    "dt_after = metrics.classification_report(test_y, pred_dtc_after)\n",
    "ROC_AUC_dt_after = roc_auc_score(test_y, pred_dtc_after)\n",
    "print('____________________________________________________________________________________________________________')\n",
    "print (\"\\n Optimized Model\\n------\")\n",
    "print(\"performnce metrics of the Optimized model - DecisionTreeClassifier(criterion='entropy', max_depth=7):\")\n",
    "print (\"Metrics: \\n {}\".format(dt_after))\n",
    "print('ROC & AUC score: {} \\n'. format(ROC_AUC_dt_after))\n",
    "\n"
   ]
  },
  {
   "cell_type": "markdown",
   "metadata": {},
   "source": [
    "#### The Unoptimized model had a much better performance in two forms of accuracy measures:\n",
    " - f1-score (64%) \n",
    " - ROC & AUC (70%)\n",
    " \n",
    "#### The Optimized model had a worse performance in two forms of accuracy measures:\n",
    " - f1-score (53%) \n",
    " - ROC & AUC (62%)"
   ]
  },
  {
   "cell_type": "markdown",
   "metadata": {},
   "source": [
    "### Run the predition model on the test data"
   ]
  },
  {
   "cell_type": "code",
   "execution_count": 35,
   "metadata": {},
   "outputs": [
    {
     "name": "stdout",
     "output_type": "stream",
     "text": [
      "toxic (15294, 8)\n",
      "severe_toxic (1595, 8)\n",
      "obscene (8449, 8)\n",
      "threat (478, 8)\n",
      "insult (7877, 8)\n",
      "identity_hate (1405, 8)\n",
      "predictions shape (153164, 7)\n"
     ]
    },
    {
     "data": {
      "text/html": [
       "<div>\n",
       "<style>\n",
       "    .dataframe thead tr:only-child th {\n",
       "        text-align: right;\n",
       "    }\n",
       "\n",
       "    .dataframe thead th {\n",
       "        text-align: left;\n",
       "    }\n",
       "\n",
       "    .dataframe tbody tr th {\n",
       "        vertical-align: top;\n",
       "    }\n",
       "</style>\n",
       "<table border=\"1\" class=\"dataframe\">\n",
       "  <thead>\n",
       "    <tr style=\"text-align: right;\">\n",
       "      <th></th>\n",
       "      <th>id</th>\n",
       "      <th>toxic</th>\n",
       "      <th>severe_toxic</th>\n",
       "      <th>obscene</th>\n",
       "      <th>threat</th>\n",
       "      <th>insult</th>\n",
       "      <th>identity_hate</th>\n",
       "    </tr>\n",
       "  </thead>\n",
       "  <tbody>\n",
       "    <tr>\n",
       "      <th>0</th>\n",
       "      <td>00001cee341fdb12</td>\n",
       "      <td>1</td>\n",
       "      <td>0</td>\n",
       "      <td>1</td>\n",
       "      <td>0</td>\n",
       "      <td>1</td>\n",
       "      <td>0</td>\n",
       "    </tr>\n",
       "    <tr>\n",
       "      <th>1</th>\n",
       "      <td>0000247867823ef7</td>\n",
       "      <td>0</td>\n",
       "      <td>0</td>\n",
       "      <td>0</td>\n",
       "      <td>0</td>\n",
       "      <td>0</td>\n",
       "      <td>0</td>\n",
       "    </tr>\n",
       "    <tr>\n",
       "      <th>2</th>\n",
       "      <td>00013b17ad220c46</td>\n",
       "      <td>0</td>\n",
       "      <td>0</td>\n",
       "      <td>0</td>\n",
       "      <td>0</td>\n",
       "      <td>0</td>\n",
       "      <td>0</td>\n",
       "    </tr>\n",
       "    <tr>\n",
       "      <th>3</th>\n",
       "      <td>00017563c3f7919a</td>\n",
       "      <td>0</td>\n",
       "      <td>0</td>\n",
       "      <td>0</td>\n",
       "      <td>0</td>\n",
       "      <td>0</td>\n",
       "      <td>0</td>\n",
       "    </tr>\n",
       "    <tr>\n",
       "      <th>4</th>\n",
       "      <td>00017695ad8997eb</td>\n",
       "      <td>0</td>\n",
       "      <td>0</td>\n",
       "      <td>0</td>\n",
       "      <td>0</td>\n",
       "      <td>0</td>\n",
       "      <td>0</td>\n",
       "    </tr>\n",
       "    <tr>\n",
       "      <th>5</th>\n",
       "      <td>0001ea8717f6de06</td>\n",
       "      <td>0</td>\n",
       "      <td>0</td>\n",
       "      <td>0</td>\n",
       "      <td>0</td>\n",
       "      <td>0</td>\n",
       "      <td>0</td>\n",
       "    </tr>\n",
       "    <tr>\n",
       "      <th>6</th>\n",
       "      <td>00024115d4cbde0f</td>\n",
       "      <td>0</td>\n",
       "      <td>0</td>\n",
       "      <td>0</td>\n",
       "      <td>0</td>\n",
       "      <td>0</td>\n",
       "      <td>0</td>\n",
       "    </tr>\n",
       "    <tr>\n",
       "      <th>7</th>\n",
       "      <td>000247e83dcc1211</td>\n",
       "      <td>0</td>\n",
       "      <td>0</td>\n",
       "      <td>0</td>\n",
       "      <td>0</td>\n",
       "      <td>0</td>\n",
       "      <td>0</td>\n",
       "    </tr>\n",
       "    <tr>\n",
       "      <th>8</th>\n",
       "      <td>00025358d4737918</td>\n",
       "      <td>0</td>\n",
       "      <td>0</td>\n",
       "      <td>0</td>\n",
       "      <td>0</td>\n",
       "      <td>0</td>\n",
       "      <td>0</td>\n",
       "    </tr>\n",
       "    <tr>\n",
       "      <th>9</th>\n",
       "      <td>00026d1092fe71cc</td>\n",
       "      <td>0</td>\n",
       "      <td>0</td>\n",
       "      <td>0</td>\n",
       "      <td>0</td>\n",
       "      <td>0</td>\n",
       "      <td>0</td>\n",
       "    </tr>\n",
       "    <tr>\n",
       "      <th>10</th>\n",
       "      <td>0002eadc3b301559</td>\n",
       "      <td>1</td>\n",
       "      <td>0</td>\n",
       "      <td>0</td>\n",
       "      <td>0</td>\n",
       "      <td>0</td>\n",
       "      <td>0</td>\n",
       "    </tr>\n",
       "    <tr>\n",
       "      <th>11</th>\n",
       "      <td>0002f87b16116a7f</td>\n",
       "      <td>0</td>\n",
       "      <td>0</td>\n",
       "      <td>0</td>\n",
       "      <td>0</td>\n",
       "      <td>0</td>\n",
       "      <td>0</td>\n",
       "    </tr>\n",
       "    <tr>\n",
       "      <th>12</th>\n",
       "      <td>0003806b11932181</td>\n",
       "      <td>0</td>\n",
       "      <td>0</td>\n",
       "      <td>0</td>\n",
       "      <td>0</td>\n",
       "      <td>0</td>\n",
       "      <td>0</td>\n",
       "    </tr>\n",
       "    <tr>\n",
       "      <th>13</th>\n",
       "      <td>0003e1cccfd5a40a</td>\n",
       "      <td>0</td>\n",
       "      <td>0</td>\n",
       "      <td>0</td>\n",
       "      <td>0</td>\n",
       "      <td>0</td>\n",
       "      <td>0</td>\n",
       "    </tr>\n",
       "    <tr>\n",
       "      <th>14</th>\n",
       "      <td>00059ace3e3e9a53</td>\n",
       "      <td>0</td>\n",
       "      <td>0</td>\n",
       "      <td>0</td>\n",
       "      <td>0</td>\n",
       "      <td>0</td>\n",
       "      <td>0</td>\n",
       "    </tr>\n",
       "    <tr>\n",
       "      <th>15</th>\n",
       "      <td>000634272d0d44eb</td>\n",
       "      <td>0</td>\n",
       "      <td>0</td>\n",
       "      <td>0</td>\n",
       "      <td>0</td>\n",
       "      <td>0</td>\n",
       "      <td>0</td>\n",
       "    </tr>\n",
       "    <tr>\n",
       "      <th>16</th>\n",
       "      <td>000663aff0fffc80</td>\n",
       "      <td>0</td>\n",
       "      <td>0</td>\n",
       "      <td>0</td>\n",
       "      <td>0</td>\n",
       "      <td>0</td>\n",
       "      <td>0</td>\n",
       "    </tr>\n",
       "    <tr>\n",
       "      <th>17</th>\n",
       "      <td>000689dd34e20979</td>\n",
       "      <td>0</td>\n",
       "      <td>0</td>\n",
       "      <td>0</td>\n",
       "      <td>0</td>\n",
       "      <td>0</td>\n",
       "      <td>0</td>\n",
       "    </tr>\n",
       "    <tr>\n",
       "      <th>18</th>\n",
       "      <td>000834769115370c</td>\n",
       "      <td>0</td>\n",
       "      <td>0</td>\n",
       "      <td>0</td>\n",
       "      <td>0</td>\n",
       "      <td>0</td>\n",
       "      <td>0</td>\n",
       "    </tr>\n",
       "    <tr>\n",
       "      <th>19</th>\n",
       "      <td>000844b52dee5f3f</td>\n",
       "      <td>0</td>\n",
       "      <td>0</td>\n",
       "      <td>0</td>\n",
       "      <td>0</td>\n",
       "      <td>0</td>\n",
       "      <td>0</td>\n",
       "    </tr>\n",
       "  </tbody>\n",
       "</table>\n",
       "</div>"
      ],
      "text/plain": [
       "                  id  toxic  severe_toxic  obscene  threat  insult  \\\n",
       "0   00001cee341fdb12      1             0        1       0       1   \n",
       "1   0000247867823ef7      0             0        0       0       0   \n",
       "2   00013b17ad220c46      0             0        0       0       0   \n",
       "3   00017563c3f7919a      0             0        0       0       0   \n",
       "4   00017695ad8997eb      0             0        0       0       0   \n",
       "5   0001ea8717f6de06      0             0        0       0       0   \n",
       "6   00024115d4cbde0f      0             0        0       0       0   \n",
       "7   000247e83dcc1211      0             0        0       0       0   \n",
       "8   00025358d4737918      0             0        0       0       0   \n",
       "9   00026d1092fe71cc      0             0        0       0       0   \n",
       "10  0002eadc3b301559      1             0        0       0       0   \n",
       "11  0002f87b16116a7f      0             0        0       0       0   \n",
       "12  0003806b11932181      0             0        0       0       0   \n",
       "13  0003e1cccfd5a40a      0             0        0       0       0   \n",
       "14  00059ace3e3e9a53      0             0        0       0       0   \n",
       "15  000634272d0d44eb      0             0        0       0       0   \n",
       "16  000663aff0fffc80      0             0        0       0       0   \n",
       "17  000689dd34e20979      0             0        0       0       0   \n",
       "18  000834769115370c      0             0        0       0       0   \n",
       "19  000844b52dee5f3f      0             0        0       0       0   \n",
       "\n",
       "    identity_hate  \n",
       "0               0  \n",
       "1               0  \n",
       "2               0  \n",
       "3               0  \n",
       "4               0  \n",
       "5               0  \n",
       "6               0  \n",
       "7               0  \n",
       "8               0  \n",
       "9               0  \n",
       "10              0  \n",
       "11              0  \n",
       "12              0  \n",
       "13              0  \n",
       "14              0  \n",
       "15              0  \n",
       "16              0  \n",
       "17              0  \n",
       "18              0  \n",
       "19              0  "
      ]
     },
     "execution_count": 35,
     "metadata": {},
     "output_type": "execute_result"
    }
   ],
   "source": [
    "## extract all the toxic comments from the train data which \n",
    "## are marked true (for each feature).\n",
    "toxic_comments = [train[train[x] == 1] for x in features]\n",
    "\n",
    "predictions = pd.DataFrame({'id': test['id']})\n",
    "    \n",
    "for i, feature in enumerate(features):\n",
    "    print(feature, toxic_comments[i].shape)\n",
    "    clf = Pipeline([('tfidf', TfidfVectorizer(stop_words='english')),\n",
    "                    ('dt_clf', DecisionTreeClassifier(criterion='gini', max_depth=None, random_state=42))])\n",
    "    clf.fit(train['comment_text'], train[feature])\n",
    "    pred = clf.predict(test['comment_text'])\n",
    "    predictions[feature] = pred\n",
    "\n",
    "print('predictions shape', predictions.shape)\n",
    "predictions.head(20)"
   ]
  },
  {
   "cell_type": "code",
   "execution_count": 36,
   "metadata": {},
   "outputs": [
    {
     "name": "stdout",
     "output_type": "stream",
     "text": [
      "The amount marked true in each feature \n",
      "------\n",
      "toxic 34687\n",
      "severe_toxic 2211\n",
      "obscene 21017\n",
      "threat 507\n",
      "insult 17933\n",
      "identity_hate 2219\n"
     ]
    }
   ],
   "source": [
    "print('The amount marked true in each feature \\n------')\n",
    "for feature in features:\n",
    "    total = predictions[feature].sum()\n",
    "    print(feature, total)"
   ]
  },
  {
   "cell_type": "markdown",
   "metadata": {},
   "source": [
    "###  Samples of comments that were marked true"
   ]
  },
  {
   "cell_type": "code",
   "execution_count": 48,
   "metadata": {
    "scrolled": true
   },
   "outputs": [
    {
     "name": "stdout",
     "output_type": "stream",
     "text": [
      "_______________________________________________ TOXIC _______________________________________________\n",
      "--  yo bitch ja rule is more succesful then youll ever be whats up with you and hating you sad mofuckasi should bitch slap ur pethedic white faces and get you to kiss my ass you guys sicken me ja rule is about pride in da music man dont diss that shit on him and nothin is wrong bein like tupac he was a brother toofuckin white boys get things right next time\n",
      "--  i think its crap that the link to roggenbier is to this article somebody that knows how to do things should change it\n",
      "--    balance  this page has one sentence about the basic definition of the word and a huge amount about the slangprofane uses perhaps the former should be extended is there no information about female dogs available beyond their name this is an encyclopaedia not a dictionary     i feel that whoever is looking this definition up is very appropiate and should be deleted from wikipediaimmediatly this word is used very often and is also a very mean word i belive that is majorly true very much so okay so the good meaning is a female dog  bitch it also stands for the name brittany fellows—preceding unsigned comment added by   •     etymology  the word bitch is from the old norse bikkjuna meaning female of the dog of unknown origin grimm derives the old norse words from lapp pittja but oed notes that the converse is equally possible  the adj bitchy was first seen in 1925   the verb meaning to complain in 1930  slang bitchen good is attested to the 1950s   reclaiming the word bitch   the word bitch is actually only offencive in american and canadian english in most other english variants bitch maintains its correct definition  female canine people have argued that bitch is different because it is used as an insult  but so is pig dog cow and others these are not considered profane so why is bitch as far as i am concerned there is nothing to reclaim as bitch simply means a female canine  it may be used as a pejorative or descriptor  that does not make it a profanity      it should definately say something about kyle vanderweilen and all his bitchin is there any particular evidence of women reclaiming the word bitch in the 90s can anyone point to articles on this etc the song is definitely interesting and belongs here but doesnt actually reclaim the word bitch any more than it reclaims the word sinner  also i dont really understand the last paragraph and it sucks  i was going to try and clear it up but i realized i dont know what it means can someone point to a source that lays out the argument about bitches fertility and patriarchy more clearly   we dont need articles at all as i there are definitely enough examples even outside of the 90s missy elliot cleary and repeatedly reclaims the word for instance shes a bitch    references are fine  just the name missy elliot got me to find a quote of a rolling stone review that mentioned reclaiming the word in fact if some one knows more about her it might be interesting to add a section on her work and on how it relates to womenslurs more generally within hiphop    how relevant is this reclamation it seems to me poison for a woman to use an epithet which still strongly connotes despised traits i dont see how using a word connoting querolous spiteful and malicious can be empowering but i dont know lifes a bitch    it stems from a reaction to the prevalence of tagging any woman who doesnt adhere to a certain standard of femininity as a bitch to use a literary example in the novel the handmaids tale the narrator related the feeling that whenever she outsmarted a man she could almost hear him calling her a bitch in his mind even her own husband     that literary reaction you recited is jealousy men have names for other men who outsmart them too but not having a word like bitch for them they have to resort to a greater variety of pejoritive epithets though you havent been specific i think that standard of femininity you referred to is a pretext for subordination which both sexes often strive to impose on the other but men have traditionally had more power because it is such a popular epithet in slang the connotations of bitch are diffuse though still commonly pernicious i think bitch in itself is not chiefly a denunciation to punish women who do not conform to that standard but rather a contemptuous word often used for it  however i still dont see the point of reclamati\n",
      "--  dj robinson is gay as hell he sucks his dick so much\n",
      "--  i have been perfectly civil in what quite clearly idiotic trolling\n",
      "--  fuck off you antisemitic cunt  \n",
      "_______________________________________________ SEVERE_TOXIC _______________________________________________\n",
      "--   hello   fuck off my pagan you bareback mancunt pig slut\n",
      "--  go fuck yourself cunt\n",
      "--  go suck some fucking cock and stop blocking my edits u cock\n",
      "--  t is people like you that make wikipedia horrible blocking schnitzelmangreek for no reasonget a life you loser or il kill you you wife and childrenburn in helli light your corpse like firewoodbewareyou and your family i dare you to talk back to me and see what happensso whats it going to befuckin nigga            i managed to track your adderess and will hunt you down in your sleep i will shoot you and cut your children up just i dare you to talk back to me or block me for death threatsjust see what ill do            this isnt vandilism its a serious death threat unblock schnitzelmangreek get a life you loser or ill kill you fucking bitch\n",
      "--  a buttfucking bitch who rappes innocent little boys and girls at night she turns into batbitch a super hero who dedicated her life to rapping the fuck out of children shes also\n",
      "--     zomg iphone dictation faux pas   were putting together some things to bring in to you later semi colon came out as we are putting together some things to bring in to you like to suck cock  lulz   \n",
      "_______________________________________________ OBSCENE _______________________________________________\n",
      "--  yo bitch ja rule is more succesful then youll ever be whats up with you and hating you sad mofuckasi should bitch slap ur pethedic white faces and get you to kiss my ass you guys sicken me ja rule is about pride in da music man dont diss that shit on him and nothin is wrong bein like tupac he was a brother toofuckin white boys get things right next time\n",
      "--    balance  this page has one sentence about the basic definition of the word and a huge amount about the slangprofane uses perhaps the former should be extended is there no information about female dogs available beyond their name this is an encyclopaedia not a dictionary     i feel that whoever is looking this definition up is very appropiate and should be deleted from wikipediaimmediatly this word is used very often and is also a very mean word i belive that is majorly true very much so okay so the good meaning is a female dog  bitch it also stands for the name brittany fellows—preceding unsigned comment added by   •     etymology  the word bitch is from the old norse bikkjuna meaning female of the dog of unknown origin grimm derives the old norse words from lapp pittja but oed notes that the converse is equally possible  the adj bitchy was first seen in 1925   the verb meaning to complain in 1930  slang bitchen good is attested to the 1950s   reclaiming the word bitch   the word bitch is actually only offencive in american and canadian english in most other english variants bitch maintains its correct definition  female canine people have argued that bitch is different because it is used as an insult  but so is pig dog cow and others these are not considered profane so why is bitch as far as i am concerned there is nothing to reclaim as bitch simply means a female canine  it may be used as a pejorative or descriptor  that does not make it a profanity      it should definately say something about kyle vanderweilen and all his bitchin is there any particular evidence of women reclaiming the word bitch in the 90s can anyone point to articles on this etc the song is definitely interesting and belongs here but doesnt actually reclaim the word bitch any more than it reclaims the word sinner  also i dont really understand the last paragraph and it sucks  i was going to try and clear it up but i realized i dont know what it means can someone point to a source that lays out the argument about bitches fertility and patriarchy more clearly   we dont need articles at all as i there are definitely enough examples even outside of the 90s missy elliot cleary and repeatedly reclaims the word for instance shes a bitch    references are fine  just the name missy elliot got me to find a quote of a rolling stone review that mentioned reclaiming the word in fact if some one knows more about her it might be interesting to add a section on her work and on how it relates to womenslurs more generally within hiphop    how relevant is this reclamation it seems to me poison for a woman to use an epithet which still strongly connotes despised traits i dont see how using a word connoting querolous spiteful and malicious can be empowering but i dont know lifes a bitch    it stems from a reaction to the prevalence of tagging any woman who doesnt adhere to a certain standard of femininity as a bitch to use a literary example in the novel the handmaids tale the narrator related the feeling that whenever she outsmarted a man she could almost hear him calling her a bitch in his mind even her own husband     that literary reaction you recited is jealousy men have names for other men who outsmart them too but not having a word like bitch for them they have to resort to a greater variety of pejoritive epithets though you havent been specific i think that standard of femininity you referred to is a pretext for subordination which both sexes often strive to impose on the other but men have traditionally had more power because it is such a popular epithet in slang the connotations of bitch are diffuse though still commonly pernicious i think bitch in itself is not chiefly a denunciation to punish women who do not conform to that standard but rather a contemptuous word often used for it  however i still dont see the point of reclamati\n",
      "--  dj robinson is gay as hell he sucks his dick so much\n",
      "--  fuck off you antisemitic cunt  \n",
      "--   hello   fuck off my pagan you bareback mancunt pig slut\n",
      "--  youre funny  ugly  were dudes on computers moron  you are quite astonishingly stupid\n",
      "_______________________________________________ THREAT _______________________________________________\n",
      "--  i will burn you to hell if you revoke my talk page access\n",
      "--     firstly it must be noted that there has been compromise and that several of the suggestions have been incorporated  as to the remainder the overriding problem is the casual language fragments such as  louis narrates how he reached this point is clunky and less formal than the more appropriate in a  flashback louis reveals in narration the circumstances of his imprisonment  this is minor but louis mother is forced to take a boarder  more accurate than humbles herself which is also clunky  unimpressed by his prospects sibella turns down his proposal and instead marries lionel john penrose is firstly an assumption and casual ie turns down this after being rebuked by an now adult sibella and witnessing her marriage to lionel john penrose is more formal and 100 accurate  at his workplace louis has to wait upon is clumsy but there can be a modification that incorporates the best of both  a darkroom explosion makes her a widow is simply unnecessary and casual in tone this can also be modified youve also missed the viewing of the remaining family at the church  that said there are some improvements such as the fatal boating accident and the letter of condolence    \n"
     ]
    },
    {
     "name": "stdout",
     "output_type": "stream",
     "text": [
      "--  i dont care what hitler claimed hitler clearly did not need to execute jews to defend germany also if genocide can be justifiable then how is it extreme savage has the dark view which many people share that this is going to be a fight to the death against radical islam its better that they die than we die\n",
      "--   vandalism   how many fuckin times do i have to tell you no vandalism you put the current logo of the teams im sick and fuckin tired of it if you do it again and im extremely serious ill come to youre house and fuckin kill you and your family whoever is doing the vandalism on the page aaarrrgh\n",
      "--  and  by the way he was a raving anti semite\n",
      "--   hello   what the fuck did you just fucking say about me you little bitch i’ll have you know i graduated top of my class in the navy seals and i’ve been involved in numerous secret raids on alquaeda and i have over 300 confirmed kills i am trained in gorilla warfare and i’m the top sniper in the entire us armed forces you are nothing to me but just another target i will wipe you the fuck out with precision the likes of which has never been seen before on this earth mark my fucking words you think you can get away with saying that shit to me over the internet think again fucker as we speak i am contacting my secret network of spies across the usa and your ip is being traced right now so you better prepare for the storm maggot the storm that wipes out the pathetic little thing you call your life you’re fucking dead kid i can be anywhere anytime and i can kill you in over seven hundred ways and that’s just with my bare hands not only am i extensively trained in unarmed combat but i have access to the entire arsenal of the united states marine corps and i will use it to its full extent to wipe your miserable ass off the face of the continent you little shit if only you could have known what unholy retribution your little “clever” comment was about to bring down upon you maybe you would have held your fucking tongue but you couldn’t you didn’t and now you’re paying the price you goddamn idiot i will shit fury all over you and you will drown in it you’re fucking dead kiddo\n",
      "_______________________________________________ INSULT _______________________________________________\n",
      "--  yo bitch ja rule is more succesful then youll ever be whats up with you and hating you sad mofuckasi should bitch slap ur pethedic white faces and get you to kiss my ass you guys sicken me ja rule is about pride in da music man dont diss that shit on him and nothin is wrong bein like tupac he was a brother toofuckin white boys get things right next time\n",
      "--    balance  this page has one sentence about the basic definition of the word and a huge amount about the slangprofane uses perhaps the former should be extended is there no information about female dogs available beyond their name this is an encyclopaedia not a dictionary     i feel that whoever is looking this definition up is very appropiate and should be deleted from wikipediaimmediatly this word is used very often and is also a very mean word i belive that is majorly true very much so okay so the good meaning is a female dog  bitch it also stands for the name brittany fellows—preceding unsigned comment added by   •     etymology  the word bitch is from the old norse bikkjuna meaning female of the dog of unknown origin grimm derives the old norse words from lapp pittja but oed notes that the converse is equally possible  the adj bitchy was first seen in 1925   the verb meaning to complain in 1930  slang bitchen good is attested to the 1950s   reclaiming the word bitch   the word bitch is actually only offencive in american and canadian english in most other english variants bitch maintains its correct definition  female canine people have argued that bitch is different because it is used as an insult  but so is pig dog cow and others these are not considered profane so why is bitch as far as i am concerned there is nothing to reclaim as bitch simply means a female canine  it may be used as a pejorative or descriptor  that does not make it a profanity      it should definately say something about kyle vanderweilen and all his bitchin is there any particular evidence of women reclaiming the word bitch in the 90s can anyone point to articles on this etc the song is definitely interesting and belongs here but doesnt actually reclaim the word bitch any more than it reclaims the word sinner  also i dont really understand the last paragraph and it sucks  i was going to try and clear it up but i realized i dont know what it means can someone point to a source that lays out the argument about bitches fertility and patriarchy more clearly   we dont need articles at all as i there are definitely enough examples even outside of the 90s missy elliot cleary and repeatedly reclaims the word for instance shes a bitch    references are fine  just the name missy elliot got me to find a quote of a rolling stone review that mentioned reclaiming the word in fact if some one knows more about her it might be interesting to add a section on her work and on how it relates to womenslurs more generally within hiphop    how relevant is this reclamation it seems to me poison for a woman to use an epithet which still strongly connotes despised traits i dont see how using a word connoting querolous spiteful and malicious can be empowering but i dont know lifes a bitch    it stems from a reaction to the prevalence of tagging any woman who doesnt adhere to a certain standard of femininity as a bitch to use a literary example in the novel the handmaids tale the narrator related the feeling that whenever she outsmarted a man she could almost hear him calling her a bitch in his mind even her own husband     that literary reaction you recited is jealousy men have names for other men who outsmart them too but not having a word like bitch for them they have to resort to a greater variety of pejoritive epithets though you havent been specific i think that standard of femininity you referred to is a pretext for subordination which both sexes often strive to impose on the other but men have traditionally had more power because it is such a popular epithet in slang the connotations of bitch are diffuse though still commonly pernicious i think bitch in itself is not chiefly a denunciation to punish women who do not conform to that standard but rather a contemptuous word often used for it  however i still dont see the point of reclamati\n",
      "--  dj robinson is gay as hell he sucks his dick so much\n",
      "--  fuck off you antisemitic cunt  \n",
      "--   hello   fuck off my pagan you bareback mancunt pig slut\n",
      "--   august 2006 utc  a simple youre wrong would have sufficedno need to try and make me look like an idiot 1301 10\n",
      "_______________________________________________ IDENTITY_HATE _______________________________________________\n",
      "--  dj robinson is gay as hell he sucks his dick so much\n",
      "--  fuck off you antisemitic cunt  \n",
      "--  2005 utc   fuck you jim everyone knows im female ijzeren jan jim is harassing me on the basis of a medical chromosomal condition i was born with  1546 august 10\n",
      "--  fuck you bitch email me at dragonhillymailcom\n",
      "--  nigger please   eat a cock lol hy\n",
      "--     improper   this whole article is racist and subpar crap no respectable dictionary would spread slurs fuck america   \n"
     ]
    }
   ],
   "source": [
    "for feature in features:\n",
    "    print('_______________________________________________', feature.upper(), '_______________________________________________')\n",
    "    cond = predictions[feature] == True\n",
    "    df = predictions[cond]\n",
    "    count = 0\n",
    "    for index, row in df.iterrows():\n",
    "        print('-- ', test[test['id'] == row['id']]['comment_text'].tolist()[0])\n",
    "        count += 1\n",
    "        if count > 5:\n",
    "            break"
   ]
  },
  {
   "cell_type": "code",
   "execution_count": 38,
   "metadata": {
    "collapsed": true
   },
   "outputs": [],
   "source": [
    "# output to csv\n",
    "predictions.to_csv('submission.csv', index=False)"
   ]
  },
  {
   "cell_type": "code",
   "execution_count": 39,
   "metadata": {},
   "outputs": [
    {
     "name": "stdout",
     "output_type": "stream",
     "text": [
      "<_io.BufferedReader name='submission.csv'>\n"
     ]
    }
   ],
   "source": [
    "with open('submission.csv', 'rb') as f:\n",
    "    print(f)"
   ]
  },
  {
   "cell_type": "code",
   "execution_count": null,
   "metadata": {
    "collapsed": true
   },
   "outputs": [],
   "source": []
  }
 ],
 "metadata": {
  "kernelspec": {
   "display_name": "Python 3",
   "language": "python",
   "name": "python3"
  },
  "language_info": {
   "codemirror_mode": {
    "name": "ipython",
    "version": 3
   },
   "file_extension": ".py",
   "mimetype": "text/x-python",
   "name": "python",
   "nbconvert_exporter": "python",
   "pygments_lexer": "ipython3",
   "version": "3.6.3"
  }
 },
 "nbformat": 4,
 "nbformat_minor": 2
}
