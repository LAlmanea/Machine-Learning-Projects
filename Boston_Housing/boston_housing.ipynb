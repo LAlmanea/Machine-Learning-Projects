{
 "cells": [
  {
   "cell_type": "markdown",
   "metadata": {},
   "source": [
    "# Machine Learning Engineer Nanodegree\n",
    "## Model Evaluation & Validation\n",
    "## Project: Predicting Boston Housing Prices\n",
    "\n",
    "Welcome to the first project of the Machine Learning Engineer Nanodegree! In this notebook, some template code has already been provided for you, and you will need to implement additional functionality to successfully complete this project. You will not need to modify the included code beyond what is requested. Sections that begin with **'Implementation'** in the header indicate that the following block of code will require additional functionality which you must provide. Instructions will be provided for each section and the specifics of the implementation are marked in the code block with a 'TODO' statement. Please be sure to read the instructions carefully!\n",
    "\n",
    "In addition to implementing code, there will be questions that you must answer which relate to the project and your implementation. Each section where you will answer a question is preceded by a **'Question X'** header. Carefully read each question and provide thorough answers in the following text boxes that begin with **'Answer:'**. Your project submission will be evaluated based on your answers to each of the questions and the implementation you provide.  \n",
    "\n",
    ">**Note:** Code and Markdown cells can be executed using the **Shift + Enter** keyboard shortcut. In addition, Markdown cells can be edited by typically double-clicking the cell to enter edit mode."
   ]
  },
  {
   "cell_type": "markdown",
   "metadata": {},
   "source": [
    "## Getting Started\n",
    "In this project, you will evaluate the performance and predictive power of a model that has been trained and tested on data collected from homes in suburbs of Boston, Massachusetts. A model trained on this data that is seen as a *good fit* could then be used to make certain predictions about a home — in particular, its monetary value. This model would prove to be invaluable for someone like a real estate agent who could make use of such information on a daily basis.\n",
    "\n",
    "The dataset for this project originates from the [UCI Machine Learning Repository](https://archive.ics.uci.edu/ml/datasets/Housing). The Boston housing data was collected in 1978 and each of the 506 entries represent aggregated data about 14 features for homes from various suburbs in Boston, Massachusetts. For the purposes of this project, the following preprocessing steps have been made to the dataset:\n",
    "- 16 data points have an `'MEDV'` value of 50.0. These data points likely contain **missing or censored values** and have been removed.\n",
    "- 1 data point has an `'RM'` value of 8.78. This data point can be considered an **outlier** and has been removed.\n",
    "- The features `'RM'`, `'LSTAT'`, `'PTRATIO'`, and `'MEDV'` are essential. The remaining **non-relevant features** have been excluded.\n",
    "- The feature `'MEDV'` has been **multiplicatively scaled** to account for 35 years of market inflation.\n",
    "\n",
    "Run the code cell below to load the Boston housing dataset, along with a few of the necessary Python libraries required for this project. You will know the dataset loaded successfully if the size of the dataset is reported."
   ]
  },
  {
   "cell_type": "code",
   "execution_count": 4,
   "metadata": {
    "collapsed": false
   },
   "outputs": [
    {
     "name": "stdout",
     "output_type": "stream",
     "text": [
      "        RM  LSTAT  PTRATIO      MEDV\n",
      "0    6.575   4.98     15.3  504000.0\n",
      "1    6.421   9.14     17.8  453600.0\n",
      "2    7.185   4.03     17.8  728700.0\n",
      "3    6.998   2.94     18.7  701400.0\n",
      "4    7.147   5.33     18.7  760200.0\n",
      "5    6.430   5.21     18.7  602700.0\n",
      "6    6.012  12.43     15.2  480900.0\n",
      "7    6.172  19.15     15.2  569100.0\n",
      "8    5.631  29.93     15.2  346500.0\n",
      "9    6.004  17.10     15.2  396900.0\n",
      "10   6.377  20.45     15.2  315000.0\n",
      "11   6.009  13.27     15.2  396900.0\n",
      "12   5.889  15.71     15.2  455700.0\n",
      "13   5.949   8.26     21.0  428400.0\n",
      "14   6.096  10.26     21.0  382200.0\n",
      "15   5.834   8.47     21.0  417900.0\n",
      "16   5.935   6.58     21.0  485100.0\n",
      "17   5.990  14.67     21.0  367500.0\n",
      "18   5.456  11.69     21.0  424200.0\n",
      "19   5.727  11.28     21.0  382200.0\n",
      "20   5.570  21.02     21.0  285600.0\n",
      "21   5.965  13.83     21.0  411600.0\n",
      "22   6.142  18.72     21.0  319200.0\n",
      "23   5.813  19.88     21.0  304500.0\n",
      "24   5.924  16.30     21.0  327600.0\n",
      "25   5.599  16.51     21.0  291900.0\n",
      "26   5.813  14.81     21.0  348600.0\n",
      "27   6.047  17.28     21.0  310800.0\n",
      "28   6.495  12.80     21.0  386400.0\n",
      "29   6.674  11.98     21.0  441000.0\n",
      "..     ...    ...      ...       ...\n",
      "459  6.484  18.68     20.2  350700.0\n",
      "460  5.304  24.91     20.2  252000.0\n",
      "461  6.185  18.03     20.2  306600.0\n",
      "462  6.229  13.11     20.2  449400.0\n",
      "463  6.242  10.74     20.2  483000.0\n",
      "464  6.750   7.74     20.2  497700.0\n",
      "465  7.061   7.01     20.2  525000.0\n",
      "466  5.762  10.42     20.2  457800.0\n",
      "467  5.871  13.34     20.2  432600.0\n",
      "468  6.312  10.58     20.2  445200.0\n",
      "469  6.114  14.98     20.2  401100.0\n",
      "470  5.905  11.45     20.2  432600.0\n",
      "471  5.454  18.06     20.1  319200.0\n",
      "472  5.414  23.97     20.1  147000.0\n",
      "473  5.093  29.68     20.1  170100.0\n",
      "474  5.983  18.07     20.1  285600.0\n",
      "475  5.983  13.35     20.1  422100.0\n",
      "476  5.707  12.01     19.2  457800.0\n",
      "477  5.926  13.59     19.2  514500.0\n",
      "478  5.670  17.60     19.2  485100.0\n",
      "479  5.390  21.14     19.2  413700.0\n",
      "480  5.794  14.10     19.2  384300.0\n",
      "481  6.019  12.92     19.2  445200.0\n",
      "482  5.569  15.10     19.2  367500.0\n",
      "483  6.027  14.33     19.2  352800.0\n",
      "484  6.593   9.67     21.0  470400.0\n",
      "485  6.120   9.08     21.0  432600.0\n",
      "486  6.976   5.64     21.0  501900.0\n",
      "487  6.794   6.48     21.0  462000.0\n",
      "488  6.030   7.88     21.0  249900.0\n",
      "\n",
      "[489 rows x 4 columns]\n",
      "0      504000.0\n",
      "1      453600.0\n",
      "2      728700.0\n",
      "3      701400.0\n",
      "4      760200.0\n",
      "5      602700.0\n",
      "6      480900.0\n",
      "7      569100.0\n",
      "8      346500.0\n",
      "9      396900.0\n",
      "10     315000.0\n",
      "11     396900.0\n",
      "12     455700.0\n",
      "13     428400.0\n",
      "14     382200.0\n",
      "15     417900.0\n",
      "16     485100.0\n",
      "17     367500.0\n",
      "18     424200.0\n",
      "19     382200.0\n",
      "20     285600.0\n",
      "21     411600.0\n",
      "22     319200.0\n",
      "23     304500.0\n",
      "24     327600.0\n",
      "25     291900.0\n",
      "26     348600.0\n",
      "27     310800.0\n",
      "28     386400.0\n",
      "29     441000.0\n",
      "         ...   \n",
      "459    350700.0\n",
      "460    252000.0\n",
      "461    306600.0\n",
      "462    449400.0\n",
      "463    483000.0\n",
      "464    497700.0\n",
      "465    525000.0\n",
      "466    457800.0\n",
      "467    432600.0\n",
      "468    445200.0\n",
      "469    401100.0\n",
      "470    432600.0\n",
      "471    319200.0\n",
      "472    147000.0\n",
      "473    170100.0\n",
      "474    285600.0\n",
      "475    422100.0\n",
      "476    457800.0\n",
      "477    514500.0\n",
      "478    485100.0\n",
      "479    413700.0\n",
      "480    384300.0\n",
      "481    445200.0\n",
      "482    367500.0\n",
      "483    352800.0\n",
      "484    470400.0\n",
      "485    432600.0\n",
      "486    501900.0\n",
      "487    462000.0\n",
      "488    249900.0\n",
      "Name: MEDV, dtype: float64\n",
      "        RM  LSTAT  PTRATIO\n",
      "0    6.575   4.98     15.3\n",
      "1    6.421   9.14     17.8\n",
      "2    7.185   4.03     17.8\n",
      "3    6.998   2.94     18.7\n",
      "4    7.147   5.33     18.7\n",
      "5    6.430   5.21     18.7\n",
      "6    6.012  12.43     15.2\n",
      "7    6.172  19.15     15.2\n",
      "8    5.631  29.93     15.2\n",
      "9    6.004  17.10     15.2\n",
      "10   6.377  20.45     15.2\n",
      "11   6.009  13.27     15.2\n",
      "12   5.889  15.71     15.2\n",
      "13   5.949   8.26     21.0\n",
      "14   6.096  10.26     21.0\n",
      "15   5.834   8.47     21.0\n",
      "16   5.935   6.58     21.0\n",
      "17   5.990  14.67     21.0\n",
      "18   5.456  11.69     21.0\n",
      "19   5.727  11.28     21.0\n",
      "20   5.570  21.02     21.0\n",
      "21   5.965  13.83     21.0\n",
      "22   6.142  18.72     21.0\n",
      "23   5.813  19.88     21.0\n",
      "24   5.924  16.30     21.0\n",
      "25   5.599  16.51     21.0\n",
      "26   5.813  14.81     21.0\n",
      "27   6.047  17.28     21.0\n",
      "28   6.495  12.80     21.0\n",
      "29   6.674  11.98     21.0\n",
      "..     ...    ...      ...\n",
      "459  6.484  18.68     20.2\n",
      "460  5.304  24.91     20.2\n",
      "461  6.185  18.03     20.2\n",
      "462  6.229  13.11     20.2\n",
      "463  6.242  10.74     20.2\n",
      "464  6.750   7.74     20.2\n",
      "465  7.061   7.01     20.2\n",
      "466  5.762  10.42     20.2\n",
      "467  5.871  13.34     20.2\n",
      "468  6.312  10.58     20.2\n",
      "469  6.114  14.98     20.2\n",
      "470  5.905  11.45     20.2\n",
      "471  5.454  18.06     20.1\n",
      "472  5.414  23.97     20.1\n",
      "473  5.093  29.68     20.1\n",
      "474  5.983  18.07     20.1\n",
      "475  5.983  13.35     20.1\n",
      "476  5.707  12.01     19.2\n",
      "477  5.926  13.59     19.2\n",
      "478  5.670  17.60     19.2\n",
      "479  5.390  21.14     19.2\n",
      "480  5.794  14.10     19.2\n",
      "481  6.019  12.92     19.2\n",
      "482  5.569  15.10     19.2\n",
      "483  6.027  14.33     19.2\n",
      "484  6.593   9.67     21.0\n",
      "485  6.120   9.08     21.0\n",
      "486  6.976   5.64     21.0\n",
      "487  6.794   6.48     21.0\n",
      "488  6.030   7.88     21.0\n",
      "\n",
      "[489 rows x 3 columns]\n",
      "Boston housing dataset has 489 data points with 4 variables each.\n"
     ]
    }
   ],
   "source": [
    "# Import libraries necessary for this project\n",
    "import numpy as np\n",
    "import pandas as pd\n",
    "import matplotlib.pyplot as plt\n",
    "from sklearn.cross_validation import ShuffleSplit\n",
    "\n",
    "# Import supplementary visualizations code visuals.py\n",
    "import visuals as vs\n",
    "\n",
    "# Pretty display for notebooks\n",
    "%matplotlib inline\n",
    "\n",
    "# Load the Boston housing dataset\n",
    "data = pd.read_csv('housing.csv')\n",
    "prices = data['MEDV']\n",
    "features = data.drop('MEDV', axis = 1)\n",
    " \n",
    "print data    \n",
    "print prices\n",
    "print features\n",
    "\n",
    "# Success\n",
    "print (\"Boston housing dataset has {} data points with {} variables each.\".format(*data.shape))"
   ]
  },
  {
   "cell_type": "markdown",
   "metadata": {},
   "source": [
    "## Data Exploration\n",
    "In this first section of this project, you will make a cursory investigation about the Boston housing data and provide your observations. Familiarizing yourself with the data through an explorative process is a fundamental practice to help you better understand and justify your results.\n",
    "\n",
    "Since the main goal of this project is to construct a working model which has the capability of predicting the value of houses, we will need to separate the dataset into **features** and the **target variable**. The **features**, `'RM'`, `'LSTAT'`, and `'PTRATIO'`, give us quantitative information about each data point. The **target variable**, `'MEDV'`, will be the variable we seek to predict. These are stored in `features` and `prices`, respectively."
   ]
  },
  {
   "cell_type": "markdown",
   "metadata": {},
   "source": [
    "### Implementation: Calculate Statistics\n",
    "For your very first coding implementation, you will calculate descriptive statistics about the Boston housing prices. Since `numpy` has already been imported for you, use this library to perform the necessary calculations. These statistics will be extremely important later on to analyze various prediction results from the constructed model.\n",
    "\n",
    "In the code cell below, you will need to implement the following:\n",
    "- Calculate the minimum, maximum, mean, median, and standard deviation of `'MEDV'`, which is stored in `prices`.\n",
    "  - Store each calculation in their respective variable."
   ]
  },
  {
   "cell_type": "code",
   "execution_count": 15,
   "metadata": {
    "collapsed": false
   },
   "outputs": [
    {
     "name": "stdout",
     "output_type": "stream",
     "text": [
      "Statistics for Boston housing dataset:\n",
      "\n",
      "Minimum price: $105,000.00\n",
      "Maximum price: $1,024,800.00\n",
      "Mean price: $454,342.94\n",
      "Median price $438,900.00\n",
      "Standard deviation of prices: $165,171.13\n"
     ]
    }
   ],
   "source": [
    "# TODO: Minimum price of the data\n",
    "minimum_price = np.min(prices)\n",
    "\n",
    "# TODO: Maximum price of the data\n",
    "maximum_price = np.max(prices) \n",
    "\n",
    "# TODO: Mean price of the data\n",
    "mean_price = np.mean(prices)\n",
    "\n",
    "# TODO: Median price of the data\n",
    "median_price = np.median(prices)\n",
    "\n",
    "# TODO: Standard deviation of prices of the data\n",
    "std_price = np.std(prices)\n",
    "\n",
    "# Show the calculated statistics\n",
    "print \"Statistics for Boston housing dataset:\\n\"\n",
    "print \"Minimum price: ${:,.2f}\".format(minimum_price)\n",
    "print \"Maximum price: ${:,.2f}\".format(maximum_price)\n",
    "print \"Mean price: ${:,.2f}\".format(mean_price)\n",
    "print \"Median price ${:,.2f}\".format(median_price)\n",
    "print \"Standard deviation of prices: ${:,.2f}\".format(std_price)\n"
   ]
  },
  {
   "cell_type": "code",
   "execution_count": 21,
   "metadata": {
    "collapsed": false
   },
   "outputs": [
    {
     "data": {
      "text/plain": [
       "(array([  1.,   1.,   4.,  10.,  10.,  17.,  24.,  25.,  35.,  35.,  40.,\n",
       "         41.,  49.,  45.,  56.,  30.,  29.,  16.,  15.,   6.]),\n",
       " array([ 0.68309684,  0.83078182,  0.9784668 ,  1.12615177,  1.27383675,\n",
       "         1.42152173,  1.5692067 ,  1.71689168,  1.86457666,  2.01226163,\n",
       "         2.15994661,  2.30763159,  2.45531656,  2.60300154,  2.75068652,\n",
       "         2.89837149,  3.04605647,  3.19374144,  3.34142642,  3.4891114 ,\n",
       "         3.63679637]),\n",
       " <a list of 20 Patch objects>)"
      ]
     },
     "execution_count": 21,
     "metadata": {},
     "output_type": "execute_result"
    },
    {
     "data": {
      "image/png": "[encoded data removed]",
      "text/plain": [
       "<matplotlib.figure.Figure at 0x11c5c61d0>"
      ]
     },
     "metadata": {},
     "output_type": "display_data"
    }
   ],
   "source": [
    "# Histogram representation of data to see the general distribution..\n",
    "\n",
    "# First we plot 'LSTAT' \n",
    "plt.hist(data.LSTAT, bins = 20)\n",
    "\n",
    "# And here we use the log function to transform our data\n",
    "plt.hist(np.log(data.LSTAT), bins = 20)"
   ]
  },
  {
   "cell_type": "code",
   "execution_count": 22,
   "metadata": {
    "collapsed": false
   },
   "outputs": [
    {
     "data": {
      "text/plain": [
       "(array([   3.,   10.,    0.,    0.,    0.,   32.,   21.,    3.,   12.,\n",
       "          22.,   13.,   25.,   38.,   45.,   35.,   27.,  147.,    0.,\n",
       "          54.,    2.]),\n",
       " array([ 2.53369681,  2.5615641 ,  2.58943138,  2.61729866,  2.64516594,\n",
       "         2.67303322,  2.70090051,  2.72876779,  2.75663507,  2.78450235,\n",
       "         2.81236963,  2.84023692,  2.8681042 ,  2.89597148,  2.92383876,\n",
       "         2.95170604,  2.97957333,  3.00744061,  3.03530789,  3.06317517,\n",
       "         3.09104245]),\n",
       " <a list of 20 Patch objects>)"
      ]
     },
     "execution_count": 22,
     "metadata": {},
     "output_type": "execute_result"
    },
    {
     "data": {
      "image/png": "[encoded data removed]",
      "text/plain": [
       "<matplotlib.figure.Figure at 0x11c864c50>"
      ]
     },
     "metadata": {},
     "output_type": "display_data"
    }
   ],
   "source": [
    "#plot 'PTRATIO'\n",
    "plt.hist(data.PTRATIO, bins = 20)\n",
    "\n",
    "#plot the log function of it\n",
    "plt.hist(np.log(data.PTRATIO), bins = 20)\n"
   ]
  },
  {
   "cell_type": "code",
   "execution_count": 23,
   "metadata": {
    "collapsed": false
   },
   "outputs": [
    {
     "data": {
      "text/plain": [
       "(array([   1.,    1.,    0.,    2.,    1.,    1.,    2.,    8.,    5.,\n",
       "          20.,   33.,   79.,  104.,   92.,   55.,   39.,   24.,   11.,\n",
       "           5.,    6.]),\n",
       " array([ 1.2700414 ,  1.31293901,  1.35583662,  1.39873423,  1.44163184,\n",
       "         1.48452945,  1.52742706,  1.57032467,  1.61322228,  1.65611988,\n",
       "         1.69901749,  1.7419151 ,  1.78481271,  1.82771032,  1.87060793,\n",
       "         1.91350554,  1.95640315,  1.99930076,  2.04219836,  2.08509597,\n",
       "         2.12799358]),\n",
       " <a list of 20 Patch objects>)"
      ]
     },
     "execution_count": 23,
     "metadata": {},
     "output_type": "execute_result"
    },
    {
     "data": {
      "image/png": "[encoded data removed]",
      "text/plain": [
       "<matplotlib.figure.Figure at 0x11cb0d390>"
      ]
     },
     "metadata": {},
     "output_type": "display_data"
    }
   ],
   "source": [
    "#plot 'RM'\n",
    "plt.hist(data.RM, bins = 20)\n",
    "\n",
    "#plot the log function\n",
    "plt.hist(np.log(data.RM), bins = 20)"
   ]
  },
  {
   "cell_type": "markdown",
   "metadata": {},
   "source": [
    "### Question 1 - Feature Observation\n",
    "As a reminder, we are using three features from the Boston housing dataset: `'RM'`, `'LSTAT'`, and `'PTRATIO'`. For each data point (neighborhood):\n",
    "- `'RM'` is the average number of rooms among homes in the neighborhood.\n",
    "- `'LSTAT'` is the percentage of homeowners in the neighborhood considered \"lower class\" (working poor).\n",
    "- `'PTRATIO'` is the ratio of students to teachers in primary and secondary schools in the neighborhood.\n",
    "\n",
    "_Using your intuition, for each of the three features above, do you think that an increase in the value of that feature would lead to an **increase** in the value of `'MEDV'` or a **decrease** in the value of `'MEDV'`? Justify your answer for each._  \n",
    "**Hint:** Would you expect a home that has an `'RM'` value of 6 be worth more or less than a home that has an `'RM'` value of 7?"
   ]
  },
  {
   "cell_type": "markdown",
   "metadata": {},
   "source": [
    "**Answer: ** Intuitively I would think that the higher the number of rooms 'RM' there is in a house the higher the price gets, however, this might not be a straight forward relationship, because the size of the rooms also matters I presume, and the histogram representation of the data shows that the ideal number of rooms for the max price is about 6 Rooms. So if the house has 7 rooms but they're too tiny then that might also reduce the price. And the higher the percentage of lower class homeowners in the neighborhood 'LSTAT' the lower the price will get because that usually corrolates with lower education level and that could lead to a lower sense of global responsibility and this could lead to a lot of misbehaviour in some way or another, and this corrolates well with the histogram plot. Also, the higher the number of students to teachers 'PTRATIO', the lower the price will be, and this feature might be of a particular interest for the real estate costumers who have kids at school age. So the real estate agent could highlight this feature if they know the prospective buyer is a parent, and the histogram shows the most flectuation here. "
   ]
  },
  {
   "cell_type": "markdown",
   "metadata": {},
   "source": [
    "----\n",
    "\n",
    "## Developing a Model\n",
    "In this second section of the project, you will develop the tools and techniques necessary for a model to make a prediction. Being able to make accurate evaluations of each model's performance through the use of these tools and techniques helps to greatly reinforce the confidence in your predictions."
   ]
  },
  {
   "cell_type": "markdown",
   "metadata": {},
   "source": [
    "### Implementation: Define a Performance Metric\n",
    "It is difficult to measure the quality of a given model without quantifying its performance over training and testing. This is typically done using some type of performance metric, whether it is through calculating some type of error, the goodness of fit, or some other useful measurement. For this project, you will be calculating the [*coefficient of determination*](http://stattrek.com/statistics/dictionary.aspx?definition=coefficient_of_determination), R<sup>2</sup>, to quantify your model's performance. The coefficient of determination for a model is a useful statistic in regression analysis, as it often describes how \"good\" that model is at making predictions. \n",
    "\n",
    "The values for R<sup>2</sup> range from 0 to 1, which captures the percentage of squared correlation between the predicted and actual values of the **target variable**. A model with an R<sup>2</sup> of 0 is no better than a model that always predicts the *mean* of the target variable, whereas a model with an R<sup>2</sup> of 1 perfectly predicts the target variable. Any value between 0 and 1 indicates what percentage of the target variable, using this model, can be explained by the **features**. _A model can be given a negative R<sup>2</sup> as well, which indicates that the model is **arbitrarily worse** than one that always predicts the mean of the target variable._\n",
    "\n",
    "For the `performance_metric` function in the code cell below, you will need to implement the following:\n",
    "- Use `r2_score` from `sklearn.metrics` to perform a performance calculation between `y_true` and `y_predict`.\n",
    "- Assign the performance score to the `score` variable."
   ]
  },
  {
   "cell_type": "code",
   "execution_count": 26,
   "metadata": {
    "collapsed": false
   },
   "outputs": [],
   "source": [
    "# TODO: Import 'r2_score'\n",
    "from sklearn import metrics\n",
    "\n",
    "def performance_metric(y_true, y_predict):\n",
    "    \"\"\" Calculates and returns the performance score between \n",
    "        true and predicted values based on the metric chosen. \"\"\"\n",
    "    \n",
    "    # TODO: Calculate the performance score between 'y_true' and 'y_predict'\n",
    "    score = metrics.r2_score(y_true, y_predict)\n",
    "    \n",
    "    # Return the score\n",
    "    return score"
   ]
  },
  {
   "cell_type": "markdown",
   "metadata": {},
   "source": [
    "### Question 2 - Goodness of Fit\n",
    "Assume that a dataset contains five data points and a model made the following predictions for the target variable:\n",
    "\n",
    "| True Value | Prediction |\n",
    "| :-------------: | :--------: |\n",
    "| 3.0 | 2.5 |\n",
    "| -0.5 | 0.0 |\n",
    "| 2.0 | 2.1 |\n",
    "| 7.0 | 7.8 |\n",
    "| 4.2 | 5.3 |\n",
    "*Would you consider this model to have successfully captured the variation of the target variable? Why or why not?* \n",
    "\n",
    "Run the code cell below to use the `performance_metric` function and calculate this model's coefficient of determination."
   ]
  },
  {
   "cell_type": "code",
   "execution_count": 27,
   "metadata": {
    "collapsed": false
   },
   "outputs": [
    {
     "name": "stdout",
     "output_type": "stream",
     "text": [
      "Model has a coefficient of determination, R^2, of 0.923\n"
     ]
    }
   ],
   "source": [
    "# Calculate the performance of this model\n",
    "score = performance_metric([3, -0.5, 2, 7, 4.2], [2.5, 0.0, 2.1, 7.8, 5.3])\n",
    "print \"Model has a coefficient of determination, R^2, of {:.3f}\".format(score)"
   ]
  },
  {
   "cell_type": "code",
   "execution_count": 29,
   "metadata": {
    "collapsed": false
   },
   "outputs": [
    {
     "data": {
      "text/plain": [
       "<matplotlib.axes._subplots.AxesSubplot at 0x11da4a590>"
      ]
     },
     "execution_count": 29,
     "metadata": {},
     "output_type": "execute_result"
    },
    {
     "data": {
      "image/png": "[encoded data removed]",
      "text/plain": [
       "<matplotlib.figure.Figure at 0x11cd4b110>"
      ]
     },
     "metadata": {},
     "output_type": "display_data"
    }
   ],
   "source": [
    "# Regression plot to show linear relationship between True value and Predition..\n",
    "\n",
    "import seaborn as sns\n",
    "sample_df = pd.DataFrame([3, -0.5, 2, 7, 4.2], [2.5, 0.0, 2.1, 7.8, 5.3]).reset_index()\n",
    "sample_df.columns = ['True Value', 'Prediction']\n",
    "sns.regplot('True Value', 'Prediction', sample_df)"
   ]
  },
  {
   "cell_type": "markdown",
   "metadata": {},
   "source": [
    "**Answer:** R^2 = 0.923 which means that 92.3% of the variables are accounted for for the performance of this model and only 7.7% has not been accounted for. In other words, since the total number of variables we have is 5, the model has accounted for 4.614999999999999 and only left out only ~ 0.38 variables. Which overall means that the model performed very well given this tiny size of data, and the model is expected to perform better as the number of the data increase. Source: \"https://en.wikipedia.org/wiki/Coefficient_of_determination\"\n",
    "Regression plot above shows an optiomal linear model between the True value and Prediction. "
   ]
  },
  {
   "cell_type": "markdown",
   "metadata": {},
   "source": [
    "### Implementation: Shuffle and Split Data\n",
    "Your next implementation requires that you take the Boston housing dataset and split the data into training and testing subsets. Typically, the data is also shuffled into a random order when creating the training and testing subsets to remove any bias in the ordering of the dataset.\n",
    "\n",
    "For the code cell below, you will need to implement the following:\n",
    "- Use `train_test_split` from `sklearn.cross_validation` to shuffle and split the `features` and `prices` data into training and testing sets.\n",
    "  - Split the data into 80% training and 20% testing.\n",
    "  - Set the `random_state` for `train_test_split` to a value of your choice. This ensures results are consistent.\n",
    "- Assign the train and testing splits to `X_train`, `X_test`, `y_train`, and `y_test`."
   ]
  },
  {
   "cell_type": "code",
   "execution_count": 30,
   "metadata": {
    "collapsed": false
   },
   "outputs": [
    {
     "name": "stdout",
     "output_type": "stream",
     "text": [
      "        RM  LSTAT  PTRATIO\n",
      "325  5.869   9.80     20.2\n",
      "140  6.174  24.16     21.2\n",
      "433  6.749  17.44     20.2\n",
      "416  6.436  16.22     20.2\n",
      "487  6.794   6.48     21.0\n",
      "25   5.599  16.51     21.0\n",
      "459  6.484  18.68     20.2\n",
      "137  6.454  14.59     21.2\n",
      "454  6.229  12.87     20.2\n",
      "349  6.398   7.79     20.2\n",
      "42   6.169   5.81     17.9\n",
      "208  6.182   9.47     18.6\n",
      "237  5.605  18.46     19.1\n",
      "274  6.453   8.23     15.3\n",
      "249  7.333   7.79     13.0\n",
      "467  5.871  13.34     20.2\n",
      "355  3.863  13.33     20.2\n",
      "410  6.202  14.52     20.2\n",
      "245  8.259   3.54     19.1\n",
      "440  5.936  16.94     20.2\n",
      "22   6.142  18.72     21.0\n",
      "321  6.031   7.83     16.9\n",
      "46   5.786  14.15     17.9\n",
      "31   6.072  13.04     21.0\n",
      "113  6.092  17.09     17.8\n",
      "370  5.000  31.99     20.2\n",
      "299  4.973  12.64     18.4\n",
      "192  7.274   6.62     12.6\n",
      "132  6.372  11.12     21.2\n",
      "57   6.816   3.95     15.1\n",
      "..     ...    ...      ...\n",
      "276  6.209   7.14     16.6\n",
      "443  6.701  16.42     20.2\n",
      "191  7.107   8.61     12.6\n",
      "385  6.404  20.31     20.2\n",
      "293  7.236   6.93     18.4\n",
      "413  6.348  17.64     20.2\n",
      "343  5.663   8.05     22.0\n",
      "257  7.014  14.79     13.0\n",
      "308  6.113  12.73     18.4\n",
      "149  5.597  21.45     14.7\n",
      "130  6.458  12.60     21.2\n",
      "151  5.404  13.28     14.7\n",
      "359  6.649  23.24     20.2\n",
      "99   7.416   6.19     18.0\n",
      "372  5.390  20.85     20.2\n",
      "87   6.121   8.44     18.5\n",
      "458  6.162  24.10     20.2\n",
      "330  7.241   5.49     15.5\n",
      "214  6.164  21.46     17.4\n",
      "466  5.762  10.42     20.2\n",
      "121  6.004  14.27     19.1\n",
      "488  6.030   7.88     21.0\n",
      "20   5.570  21.02     21.0\n",
      "188  6.800   5.03     15.6\n",
      "71   5.961   9.88     19.2\n",
      "106  5.836  18.66     20.9\n",
      "270  7.820   3.76     14.9\n",
      "348  6.112  12.67     20.2\n",
      "435  6.297  17.27     20.2\n",
      "102  6.405  10.63     20.9\n",
      "\n",
      "[391 rows x 3 columns]\n",
      "        RM  LSTAT  PTRATIO\n",
      "451  5.926  18.13     20.2\n",
      "84   6.389   9.62     18.5\n",
      "434  6.655  17.73     20.2\n",
      "472  5.414  23.97     20.1\n",
      "428  6.459  23.98     20.2\n",
      "312  5.708  11.74     19.6\n",
      "30   5.713  22.60     21.0\n",
      "220  7.686   3.92     17.4\n",
      "482  5.569  15.10     19.2\n",
      "231  6.606   7.37     16.6\n",
      "9    6.004  17.10     15.2\n",
      "124  5.879  17.58     19.1\n",
      "422  5.627  22.88     20.2\n",
      "204  5.404  23.98     18.6\n",
      "360  6.794  21.24     20.2\n",
      "70   6.417   6.72     19.2\n",
      "430  6.251  16.44     20.2\n",
      "431  6.185  18.13     20.2\n",
      "364  6.545  21.08     20.2\n",
      "211  5.951  17.92     16.4\n",
      "78   6.232  12.34     18.7\n",
      "181  6.153  13.15     17.8\n",
      "424  6.406  19.52     20.2\n",
      "55   7.249   4.81     17.9\n",
      "76   6.279  11.97     18.7\n",
      "77   6.140  10.27     18.7\n",
      "154  6.129  15.12     14.7\n",
      "265  6.854   2.98     17.6\n",
      "271  6.968   4.59     14.9\n",
      "381  5.453  30.59     20.2\n",
      "..     ...    ...      ...\n",
      "397  4.519  36.98     20.2\n",
      "478  5.670  17.60     19.2\n",
      "420  6.152  26.45     20.2\n",
      "104  6.167  12.33     20.9\n",
      "335  5.898  12.67     18.8\n",
      "468  6.312  10.58     20.2\n",
      "474  5.983  18.07     20.1\n",
      "79   5.874   9.10     18.7\n",
      "298  5.972   9.97     18.4\n",
      "316  6.083  12.79     19.6\n",
      "82   6.302   6.72     19.0\n",
      "131  6.326  12.26     21.2\n",
      "310  6.376   6.87     19.6\n",
      "290  6.590   9.50     16.1\n",
      "390  5.608  12.13     20.2\n",
      "479  5.390  21.14     19.2\n",
      "117  6.021  10.30     17.8\n",
      "340  6.579   5.49     18.3\n",
      "86   6.015  12.86     18.5\n",
      "75   6.286   8.94     18.7\n",
      "429  6.341  17.79     20.2\n",
      "15   5.834   8.47     21.0\n",
      "209  5.888  13.51     16.4\n",
      "378  6.471  17.12     20.2\n",
      "19   5.727  11.28     21.0\n",
      "317  5.868   9.97     16.9\n",
      "376  6.193  15.17     20.2\n",
      "56   6.383   5.77     17.3\n",
      "275  6.230  12.93     18.2\n",
      "398  6.434  29.05     20.2\n",
      "\n",
      "[98 rows x 3 columns]\n",
      "325    409500.0\n",
      "140    294000.0\n",
      "433    281400.0\n",
      "416    300300.0\n",
      "487    462000.0\n",
      "25     291900.0\n",
      "459    350700.0\n",
      "137    359100.0\n",
      "454    411600.0\n",
      "349    525000.0\n",
      "42     531300.0\n",
      "208    525000.0\n",
      "237    388500.0\n",
      "274    462000.0\n",
      "249    756000.0\n",
      "467    432600.0\n",
      "355    485100.0\n",
      "410    228900.0\n",
      "245    898800.0\n",
      "440    283500.0\n",
      "22     319200.0\n",
      "321    407400.0\n",
      "46     420000.0\n",
      "31     304500.0\n",
      "113    392700.0\n",
      "370    155400.0\n",
      "299    338100.0\n",
      "192    726600.0\n",
      "132    483000.0\n",
      "57     663600.0\n",
      "         ...   \n",
      "276    487200.0\n",
      "443    344400.0\n",
      "191    636300.0\n",
      "385    254100.0\n",
      "293    758100.0\n",
      "413    304500.0\n",
      "343    382200.0\n",
      "257    644700.0\n",
      "308    441000.0\n",
      "149    323400.0\n",
      "130    403200.0\n",
      "151    411600.0\n",
      "359    291900.0\n",
      "99     697200.0\n",
      "372    241500.0\n",
      "87     466200.0\n",
      "458    279300.0\n",
      "330    686700.0\n",
      "214    455700.0\n",
      "466    457800.0\n",
      "121    426300.0\n",
      "488    249900.0\n",
      "20     285600.0\n",
      "188    653100.0\n",
      "71     455700.0\n",
      "106    409500.0\n",
      "270    953400.0\n",
      "348    474600.0\n",
      "435    338100.0\n",
      "102    390600.0\n",
      "Name: MEDV, dtype: float64\n",
      "451    401100.0\n",
      "84     501900.0\n",
      "434    319200.0\n",
      "472    147000.0\n",
      "428    247800.0\n",
      "312    388500.0\n",
      "30     266700.0\n",
      "220    980700.0\n",
      "482    367500.0\n",
      "231    489300.0\n",
      "9      396900.0\n",
      "124    394800.0\n",
      "422    268800.0\n",
      "204    405300.0\n",
      "360    279300.0\n",
      "70     508200.0\n",
      "430    264600.0\n",
      "431    296100.0\n",
      "364    228900.0\n",
      "211    451500.0\n",
      "78     445200.0\n",
      "181    621600.0\n",
      "424    359100.0\n",
      "55     743400.0\n",
      "76     420000.0\n",
      "77     436800.0\n",
      "154    357000.0\n",
      "265    672000.0\n",
      "271    743400.0\n",
      "381    105000.0\n",
      "         ...   \n",
      "397    147000.0\n",
      "478    485100.0\n",
      "420    182700.0\n",
      "104    422100.0\n",
      "335    361200.0\n",
      "468    445200.0\n",
      "474    285600.0\n",
      "79     426300.0\n",
      "298    426300.0\n",
      "316    466200.0\n",
      "82     520800.0\n",
      "131    411600.0\n",
      "310    485100.0\n",
      "290    462000.0\n",
      "390    585900.0\n",
      "479    413700.0\n",
      "117    403200.0\n",
      "340    506100.0\n",
      "86     472500.0\n",
      "75     449400.0\n",
      "429    312900.0\n",
      "15     417900.0\n",
      "209    489300.0\n",
      "378    275100.0\n",
      "19     382200.0\n",
      "317    405300.0\n",
      "376    289800.0\n",
      "56     518700.0\n",
      "275    422100.0\n",
      "398    151200.0\n",
      "Name: MEDV, dtype: float64\n",
      "Training and testing split was successful.\n"
     ]
    }
   ],
   "source": [
    "# TODO: Import 'train_test_split'\n",
    "from sklearn.cross_validation import train_test_split\n",
    "\n",
    "# TODO: Shuffle and split the data into training and testing subsets\n",
    "X_train, X_test, y_train, y_test = train_test_split(features, prices, random_state=42, test_size=0.20, train_size=0.80)\n",
    "\n",
    "print X_train\n",
    "print X_test\n",
    "print y_train\n",
    "print y_test\n",
    "\n",
    "\n",
    "# Success\n",
    "print \"Training and testing split was successful.\""
   ]
  },
  {
   "cell_type": "markdown",
   "metadata": {},
   "source": [
    "### Question 3 - Training and Testing\n",
    "*What is the benefit to splitting a dataset into some ratio of training and testing subsets for a learning algorithm?*  \n",
    "**Hint:** What could go wrong with not having a way to test your model?"
   ]
  },
  {
   "cell_type": "markdown",
   "metadata": {},
   "source": [
    "**Answer: ** Splitting the data into training and testing subsets give us an indication of our model performance. So, the training data is used to train the learning algorithm to \"see\" the pattern between the different data points and their labels. Then the test data (which is conventionally 20% of the total dataset we have) is used to test our model and show us how well it did learning from the training data we gave it. Then we decide if our model is reliable enough to use for future data or whether it needs more data to learn better. "
   ]
  },
  {
   "cell_type": "markdown",
   "metadata": {},
   "source": [
    "----\n",
    "\n",
    "## Analyzing Model Performance\n",
    "In this third section of the project, you'll take a look at several models' learning and testing performances on various subsets of training data. Additionally, you'll investigate one particular algorithm with an increasing `'max_depth'` parameter on the full training set to observe how model complexity affects performance. Graphing your model's performance based on varying criteria can be beneficial in the analysis process, such as visualizing behavior that may not have been apparent from the results alone."
   ]
  },
  {
   "cell_type": "markdown",
   "metadata": {},
   "source": [
    "### Learning Curves\n",
    "The following code cell produces four graphs for a decision tree model with different maximum depths. Each graph visualizes the learning curves of the model for both training and testing as the size of the training set is increased. Note that the shaded region of a learning curve denotes the uncertainty of that curve (measured as the standard deviation). The model is scored on both the training and testing sets using R<sup>2</sup>, the coefficient of determination.  \n",
    "\n",
    "Run the code cell below and use these graphs to answer the following question."
   ]
  },
  {
   "cell_type": "code",
   "execution_count": 16,
   "metadata": {
    "collapsed": false,
    "scrolled": false
   },
   "outputs": [
    {
     "data": {
      "image/png": "[encoded data removed]",
      "text/plain": [
       "<matplotlib.figure.Figure at 0x105124bd0>"
      ]
     },
     "metadata": {},
     "output_type": "display_data"
    }
   ],
   "source": [
    "# Produce learning curves for varying training set sizes and maximum depths\n",
    "vs.ModelLearning(features, prices)"
   ]
  },
  {
   "cell_type": "markdown",
   "metadata": {},
   "source": [
    "### Question 4 - Learning the Data\n",
    "*Choose one of the graphs above and state the maximum depth for the model. What happens to the score of the training curve as more training points are added? What about the testing curve? Would having more training points benefit the model?*  \n",
    "**Hint:** Are the learning curves converging to particular scores?"
   ]
  },
  {
   "cell_type": "markdown",
   "metadata": {},
   "source": [
    "**Answer: ** The graphs show that when the maximum depth of the tree is set to 10, the decision tree learns from fine details \"noise\" of the training data. This is called \"overfitting\". That resulted in a bad performance on the testing data and that is shown in the low score for the testing set in comparison to the score made from the training set, and increasing the number of training set will most likely not benefit the model and it will not generalize well for an unseen world. On the other hand, a very low maximum depth set at 1 is not the best either, because the model is overly general and misses on fitting to a lot of points in the training data, this shows a very low score result for the training and testing sets, and increasing the number of training data will not benefit here either. Even though the lines converge well, the scores for both were very low in comparison to the other parameters, and the model here is said to be \"underfitting\" or biased to the training set. \n",
    "\n",
    "Given the parameters here for four different max_depth; it seems that the model which used max_dept=3 would give the best generalization for an unseen world, since the training and testing sets converge well and have a high score for their performance, and increasing the number of training data here wouldn't be neccessary or beneficial for this model, because after 300 training points the testing curve has started to diverge from its optimal score, which indicates that adding more data wouldn't be beneficial here. Given only four parameters to choose for the model, I would go with max_depth=3 as the best parameter to use. Max_depth=6 is pretty good score wise and very close to max_depth=3, but since the training and testing sets don't converge well, and also increasing the number of training data would most likely not imporve the performanc. \n",
    "\n",
    "\n",
    "\n",
    "Source: http://scikit-learn.org/stable/modules/learning_curve.html \n",
    "(http://scikit-learn.org/stable/auto_examples/tree/plot_tree_regression.html)"
   ]
  },
  {
   "cell_type": "markdown",
   "metadata": {},
   "source": [
    "### Complexity Curves\n",
    "The following code cell produces a graph for a decision tree model that has been trained and validated on the training data using different maximum depths. The graph produces two complexity curves — one for training and one for validation. Similar to the **learning curves**, the shaded regions of both the complexity curves denote the uncertainty in those curves, and the model is scored on both the training and validation sets using the `performance_metric` function.  \n",
    "\n",
    "Run the code cell below and use this graph to answer the following two questions."
   ]
  },
  {
   "cell_type": "code",
   "execution_count": 17,
   "metadata": {
    "collapsed": false
   },
   "outputs": [
    {
     "data": {
      "image/png": "[encoded data removed]",
      "text/plain": [
       "<matplotlib.figure.Figure at 0x11182b290>"
      ]
     },
     "metadata": {},
     "output_type": "display_data"
    }
   ],
   "source": [
    "vs.ModelComplexity(X_train, y_train)"
   ]
  },
  {
   "cell_type": "markdown",
   "metadata": {},
   "source": [
    "### Question 5 - Bias-Variance Tradeoff\n",
    "*When the model is trained with a maximum depth of 1, does the model suffer from high bias or from high variance? How about when the model is trained with a maximum depth of 10? What visual cues in the graph justify your conclusions?*  \n",
    "**Hint:** How do you know when a model is suffering from high bias or high variance?"
   ]
  },
  {
   "cell_type": "markdown",
   "metadata": {},
   "source": [
    "**Answer: ** \n",
    "This graph here shows the same trends in our model set in different max_depth. At max_depth=1 the model suffers from a high bias and that is shown in the lowest score present in this graph. And at max_depth=10 it suffers from a high variance and that is shown in the big difference in score values between training and testing (validating) sets; this difference proofs that the model was overfitting to the training data and didn't generalize well for the testing set.\n",
    "\n",
    "Please also refer to my answer for Question4.\n"
   ]
  },
  {
   "cell_type": "markdown",
   "metadata": {},
   "source": [
    "### Question 6 - Best-Guess Optimal Model\n",
    "*Which maximum depth do you think results in a model that best generalizes to unseen data? What intuition lead you to this answer?*"
   ]
  },
  {
   "cell_type": "markdown",
   "metadata": {},
   "source": [
    "**Answer: ** As I said in my answer for Question 4, it's a judgment call for each case. But generally, from the graphs we have, max_depth=3 and max_depth=6 are both good. It really depends on whether this situation can tolarate a slightly higher variance or a slightly higher bias. Like for example: max_depth=3 would give a better estimation of future data if it's within the range of trained data, however, I'll do poorly of future data if it varies a lot from trained data, and the prediction will be way off. And vice versa for max_depth=6. So max_depth=5 or max_depth=4 would be optimal in this situation. "
   ]
  },
  {
   "cell_type": "markdown",
   "metadata": {},
   "source": [
    "-----\n",
    "\n",
    "## Evaluating Model Performance\n",
    "In this final section of the project, you will construct a model and make a prediction on the client's feature set using an optimized model from `fit_model`."
   ]
  },
  {
   "cell_type": "markdown",
   "metadata": {},
   "source": [
    "### Question 7 - Grid Search\n",
    "*What is the grid search technique and how it can be applied to optimize a learning algorithm?*"
   ]
  },
  {
   "cell_type": "markdown",
   "metadata": {},
   "source": [
    "**Answer: ** GridSearch means that we try to search the data with the best performance model given that each model has different sets of parameters. This method is also called “parameter sweep”, and as the name suggests, it exhausts all the parameters when searching for the best performance model, then these models are evaluated typically by Cross Validation. The exhaustive nature of this method counts as a disadvantage since this way of searching is very slow. And of course if the dataset has a massive number of data points, this method becomes very impractical. However, it is commonly used to define the best set of parameters. "
   ]
  },
  {
   "cell_type": "markdown",
   "metadata": {},
   "source": [
    "### Question 8 - Cross-Validation\n",
    "*What is the k-fold cross-validation training technique? What benefit does this technique provide for grid search when optimizing a model?*  \n",
    "**Hint:** Much like the reasoning behind having a testing set, what could go wrong with using grid search without a cross-validated set?"
   ]
  },
  {
   "cell_type": "markdown",
   "metadata": {},
   "source": [
    "**Answer: ** k-fold-CV is partitioning the data into k-fold sections where like 80% of the data is used for training and 20% of it for testing just like a normal way of training and testing, except that with k-fold CV, this is done for different parts of the data each time. So if we have 200 data points we could partition the data into 10 pins, each pin with 20 data points, and each time we use a different pin for testing across the remaining of the data. This way, maximizes our used of data for training as well as for testing, then we need to get the average from all the testing results to evaluate the performance of our model. \n",
    "However, this is one way of using CV, but it is biased and gives an optimistic minimum average error, as we used the testing pin to train the model at some point, which isn't a good representation of unseen world. A better say of performing CV is having about 20% of the data untouched and only used for evaluating model performance. The remaining of the data should be sectioned into k folds for training. This training section is then used with different models. Each model then tested on the unseen test section and we get the error rate for that model. We perform the same procesure on each model method then we get the average error rate to determine the best model to use for future data. \n"
   ]
  },
  {
   "cell_type": "markdown",
   "metadata": {},
   "source": [
    "### Implementation: Fitting a Model\n",
    "Your final implementation requires that you bring everything together and train a model using the **decision tree algorithm**. To ensure that you are producing an optimized model, you will train the model using the grid search technique to optimize the `'max_depth'` parameter for the decision tree. The `'max_depth'` parameter can be thought of as how many questions the decision tree algorithm is allowed to ask about the data before making a prediction. Decision trees are part of a class of algorithms called *supervised learning algorithms*.\n",
    "\n",
    "In addition, you will find your implementation is using `ShuffleSplit()` for an alternative form of cross-validation (see the `'cv_sets'` variable). While it is not the K-Fold cross-validation technique you describe in **Question 8**, this type of cross-validation technique is just as useful!. The `ShuffleSplit()` implementation below will create 10 (`'n_splits'`) shuffled sets, and for each shuffle, 20% (`'test_size'`) of the data will be used as the *validation set*. While you're working on your implementation, think about the contrasts and similarities it has to the K-fold cross-validation technique.\n",
    "\n",
    "Please note that ShuffleSplit has different parameters in scikit-learn versions 0.17 and 0.18.\n",
    "For the `fit_model` function in the code cell below, you will need to implement the following:\n",
    "- Use [`DecisionTreeRegressor`](http://scikit-learn.org/stable/modules/generated/sklearn.tree.DecisionTreeRegressor.html) from `sklearn.tree` to create a decision tree regressor object.\n",
    "  - Assign this object to the `'regressor'` variable.\n",
    "- Create a dictionary for `'max_depth'` with the values from 1 to 10, and assign this to the `'params'` variable.\n",
    "- Use [`make_scorer`](http://scikit-learn.org/stable/modules/generated/sklearn.metrics.make_scorer.html) from `sklearn.metrics` to create a scoring function object.\n",
    "  - Pass the `performance_metric` function as a parameter to the object.\n",
    "  - Assign this scoring function to the `'scoring_fnc'` variable.\n",
    "- Use [`GridSearchCV`](http://scikit-learn.org/0.17/modules/generated/sklearn.grid_search.GridSearchCV.html) from `sklearn.grid_search` to create a grid search object.\n",
    "  - Pass the variables `'regressor'`, `'params'`, `'scoring_fnc'`, and `'cv_sets'` as parameters to the object. \n",
    "  - Assign the `GridSearchCV` object to the `'grid'` variable."
   ]
  },
  {
   "cell_type": "code",
   "execution_count": 31,
   "metadata": {
    "collapsed": false
   },
   "outputs": [
    {
     "name": "stderr",
     "output_type": "stream",
     "text": [
      "/anaconda/lib/python2.7/site-packages/sklearn/grid_search.py:43: DeprecationWarning: This module was deprecated in version 0.18 in favor of the model_selection module into which all the refactored classes and functions are moved. This module will be removed in 0.20.\n",
      "  DeprecationWarning)\n"
     ]
    }
   ],
   "source": [
    "# TODO: Import 'make_scorer', 'DecisionTreeRegressor', and 'GridSearchCV'\n",
    "from sklearn.metrics import make_scorer\n",
    "from sklearn.tree import DecisionTreeRegressor\n",
    "from sklearn.grid_search import GridSearchCV\n",
    "\n",
    "def fit_model(X, y):\n",
    "    \"\"\" Performs grid search over the 'max_depth' parameter for a \n",
    "        decision tree regressor trained on the input data [X, y]. \"\"\"\n",
    "    \n",
    "    # Create cross-validation sets from the training data\n",
    "    cv_sets = ShuffleSplit(X.shape[0], n_iter = 10, test_size = 0.20, random_state = 0)\n",
    "\n",
    "    # TODO: Create a decision tree regressor object\n",
    "    regressor = DecisionTreeRegressor(random_state = 42)\n",
    "    \n",
    "    # TODO: Create a dictionary for the parameter 'max_depth' with a range from 1 to 10\n",
    "    params = {'max_depth':range(1,11)}\n",
    "\n",
    "    # TODO: Transform 'performance_metric' into a scoring function using 'make_scorer' \n",
    "    scoring_fnc = make_scorer(performance_metric)\n",
    "\n",
    "    # TODO: Create the grid search object\n",
    "    grid = GridSearchCV(estimator=regressor, param_grid=params, scoring=scoring_fnc, cv=cv_sets)\n",
    "\n",
    "    # Fit the grid search object to the data to compute the optimal model\n",
    "    grid = grid.fit(X, y)\n",
    "\n",
    "    # Return the optimal model after fitting the data\n",
    "    return grid.best_estimator_\n"
   ]
  },
  {
   "cell_type": "markdown",
   "metadata": {},
   "source": [
    "### Making Predictions\n",
    "Once a model has been trained on a given set of data, it can now be used to make predictions on new sets of input data. In the case of a *decision tree regressor*, the model has learned *what the best questions to ask about the input data are*, and can respond with a prediction for the **target variable**. You can use these predictions to gain information about data where the value of the target variable is unknown — such as data the model was not trained on."
   ]
  },
  {
   "cell_type": "markdown",
   "metadata": {},
   "source": [
    "### Question 9 - Optimal Model\n",
    "_What maximum depth does the optimal model have? How does this result compare to your guess in **Question 6**?_  \n",
    "\n",
    "Run the code block below to fit the decision tree regressor to the training data and produce an optimal model."
   ]
  },
  {
   "cell_type": "code",
   "execution_count": 32,
   "metadata": {
    "collapsed": false,
    "scrolled": true
   },
   "outputs": [
    {
     "name": "stdout",
     "output_type": "stream",
     "text": [
      "Parameter 'max_depth' is 4 for the optimal model.\n"
     ]
    }
   ],
   "source": [
    "# Fit the training data to the model using grid search\n",
    "reg = fit_model(X_train, y_train)\n",
    "\n",
    "# Produce the value for 'max_depth'\n",
    "print \"Parameter 'max_depth' is {} for the optimal model.\".format(reg.get_params()['max_depth'])"
   ]
  },
  {
   "cell_type": "markdown",
   "metadata": {},
   "source": [
    "**Answer: ** It actually compares very well, as GridSearch searches for the highest testing score on the different data splits. I expected it to be within the range of 3:6. And the Max_depth I got for the optimal model is 4 which is a pretty good balance of bias and variance. "
   ]
  },
  {
   "cell_type": "markdown",
   "metadata": {},
   "source": [
    "### Question 10 - Predicting Selling Prices\n",
    "Imagine that you were a real estate agent in the Boston area looking to use this model to help price homes owned by your clients that they wish to sell. You have collected the following information from three of your clients:\n",
    "\n",
    "| Feature | Client 1 | Client 2 | Client 3 |\n",
    "| :---: | :---: | :---: | :---: |\n",
    "| Total number of rooms in home | 5 rooms | 4 rooms | 8 rooms |\n",
    "| Neighborhood poverty level (as %) | 17% | 32% | 3% |\n",
    "| Student-teacher ratio of nearby schools | 15-to-1 | 22-to-1 | 12-to-1 |\n",
    "*What price would you recommend each client sell his/her home at? Do these prices seem reasonable given the values for the respective features?*  \n",
    "**Hint:** Use the statistics you calculated in the **Data Exploration** section to help justify your response.  \n",
    "\n",
    "Run the code block below to have your optimized model make predictions for each client's home."
   ]
  },
  {
   "cell_type": "code",
   "execution_count": 37,
   "metadata": {
    "collapsed": false
   },
   "outputs": [
    {
     "name": "stdout",
     "output_type": "stream",
     "text": [
      "Predicted selling price for Client 1's home: $403,025.00\n",
      "Predicted selling price for Client 2's home: $237,478.72\n",
      "Predicted selling price for Client 3's home: $931,636.36\n"
     ]
    },
    {
     "data": {
      "text/html": [
       "<div>\n",
       "<table border=\"1\" class=\"dataframe\">\n",
       "  <thead>\n",
       "    <tr style=\"text-align: right;\">\n",
       "      <th></th>\n",
       "      <th>RM</th>\n",
       "      <th>LSTAT</th>\n",
       "      <th>PTRATIO</th>\n",
       "    </tr>\n",
       "  </thead>\n",
       "  <tbody>\n",
       "    <tr>\n",
       "      <th>count</th>\n",
       "      <td>489.000000</td>\n",
       "      <td>489.000000</td>\n",
       "      <td>489.000000</td>\n",
       "    </tr>\n",
       "    <tr>\n",
       "      <th>mean</th>\n",
       "      <td>6.240288</td>\n",
       "      <td>12.939632</td>\n",
       "      <td>18.516564</td>\n",
       "    </tr>\n",
       "    <tr>\n",
       "      <th>std</th>\n",
       "      <td>0.643650</td>\n",
       "      <td>7.081990</td>\n",
       "      <td>2.111268</td>\n",
       "    </tr>\n",
       "    <tr>\n",
       "      <th>min</th>\n",
       "      <td>3.561000</td>\n",
       "      <td>1.980000</td>\n",
       "      <td>12.600000</td>\n",
       "    </tr>\n",
       "    <tr>\n",
       "      <th>25%</th>\n",
       "      <td>5.880000</td>\n",
       "      <td>7.370000</td>\n",
       "      <td>17.400000</td>\n",
       "    </tr>\n",
       "    <tr>\n",
       "      <th>50%</th>\n",
       "      <td>6.185000</td>\n",
       "      <td>11.690000</td>\n",
       "      <td>19.100000</td>\n",
       "    </tr>\n",
       "    <tr>\n",
       "      <th>75%</th>\n",
       "      <td>6.575000</td>\n",
       "      <td>17.120000</td>\n",
       "      <td>20.200000</td>\n",
       "    </tr>\n",
       "    <tr>\n",
       "      <th>max</th>\n",
       "      <td>8.398000</td>\n",
       "      <td>37.970000</td>\n",
       "      <td>22.000000</td>\n",
       "    </tr>\n",
       "  </tbody>\n",
       "</table>\n",
       "</div>"
      ],
      "text/plain": [
       "               RM       LSTAT     PTRATIO\n",
       "count  489.000000  489.000000  489.000000\n",
       "mean     6.240288   12.939632   18.516564\n",
       "std      0.643650    7.081990    2.111268\n",
       "min      3.561000    1.980000   12.600000\n",
       "25%      5.880000    7.370000   17.400000\n",
       "50%      6.185000   11.690000   19.100000\n",
       "75%      6.575000   17.120000   20.200000\n",
       "max      8.398000   37.970000   22.000000"
      ]
     },
     "execution_count": 37,
     "metadata": {},
     "output_type": "execute_result"
    }
   ],
   "source": [
    "# Produce a matrix for client data\n",
    "client_data = [[5, 17, 15], # Client 1\n",
    "               [4, 32, 22], # Client 2\n",
    "               [8, 3, 12]]  # Client 3\n",
    "\n",
    "# Show predictions\n",
    "for i, price in enumerate(reg.predict(client_data)):\n",
    "    print \"Predicted selling price for Client {}'s home: ${:,.2f}\".format(i+1, price)\n",
    "    \n",
    "features.describe()"
   ]
  },
  {
   "cell_type": "markdown",
   "metadata": {},
   "source": [
    "**Answer: ** \n",
    "The median for all the featurs here is a good meseare, so if we compare it for client2 with the lowest house price, we know that it is because it has schools with 3 students extra per teacher in comparison to the median. The media is (19:1). And 21% percent above the median for neighborhood poverty and even lower than the 1st quantile of the data for total number of rooms. \n",
    "\n",
    "Client1 has 5 total number of rooms, which is just below the 1st quantile, but this house makes it up with 4 students less per teacher for the nearby schools and also poverty is less by 6% in the neighborhood. \n",
    "\n",
    "Client3 compares well for all the features, as for total number of rooms, 8 is well above the average. And for porverty level it only has 3% which is 4% less than the 1st quantile. Furthermore, there're 7 students less for each teacher in the nearby schools than the median. \n"
   ]
  },
  {
   "cell_type": "markdown",
   "metadata": {},
   "source": [
    "### Sensitivity\n",
    "An optimal model is not necessarily a robust model. Sometimes, a model is either too complex or too simple to sufficiently generalize to new data. Sometimes, a model could use a learning algorithm that is not appropriate for the structure of the data given. Other times, the data itself could be too noisy or contain too few samples to allow a model to adequately capture the target variable — i.e., the model is underfitted. Run the code cell below to run the `fit_model` function ten times with different training and testing sets to see how the prediction for a specific client changes with the data it's trained on."
   ]
  },
  {
   "cell_type": "code",
   "execution_count": 21,
   "metadata": {
    "collapsed": false
   },
   "outputs": [
    {
     "name": "stdout",
     "output_type": "stream",
     "text": [
      "Trial 1: $391,183.33\n",
      "Trial 2: $419,700.00\n",
      "Trial 3: $415,800.00\n",
      "Trial 4: $420,622.22\n",
      "Trial 5: $418,377.27\n",
      "Trial 6: $411,931.58\n",
      "Trial 7: $399,663.16\n",
      "Trial 8: $407,232.00\n",
      "Trial 9: $351,577.61\n",
      "Trial 10: $413,700.00\n",
      "\n",
      "Range in prices: $69,044.61\n"
     ]
    }
   ],
   "source": [
    "vs.PredictTrials(features, prices, fit_model, client_data)"
   ]
  },
  {
   "cell_type": "markdown",
   "metadata": {},
   "source": [
    "### Question 11 - Applicability\n",
    "*In a few sentences, discuss whether the constructed model should or should not be used in a real-world setting.*  \n",
    "**Hint:** Some questions to answering:\n",
    "- *How relevant today is data that was collected from 1978?*\n",
    "- *Are the features present in the data sufficient to describe a home?*\n",
    "- *Is the model robust enough to make consistent predictions?*\n",
    "- *Would data collected in an urban city like Boston be applicable in a rural city?*"
   ]
  },
  {
   "cell_type": "markdown",
   "metadata": {},
   "source": [
    "**Answer: ** Firstly, this model is not relevant to current time, and so it wouldn't be a good model at all, especially that the difference is about 40 years!! 1 year can make a big difference in a fast changing economy. Secondly, the featurs are not sufficient -and sometimes irrelavent- to describe a home, such as the number of rooms by itself is not an indicator for anything, especially if they're of a very small sizes! And some other features are missing -that home owners and sellers care about highlighting- like having: a front or a backyeard, a pool, a playgournd in the neighborhood..etc. Thirdly, the code for sensitivity shows that actually it isn't robust enough to reproduce consistant predictions and the range in predicted prices was high, hence, it's not a robust model. Lastly, this model is specific to Boston city in the year 1978, and so it is not fit to be used for other perdiction about other urban cities/rural city or even the same city in another point in time. "
   ]
  },
  {
   "cell_type": "markdown",
   "metadata": {},
   "source": [
    "> **Note**: Once you have completed all of the code implementations and successfully answered each question above, you may finalize your work by exporting the iPython Notebook as an HTML document. You can do this by using the menu above and navigating to  \n",
    "**File -> Download as -> HTML (.html)**. Include the finished document along with this notebook as your submission."
   ]
  }
 ],
 "metadata": {
  "anaconda-cloud": {},
  "kernelspec": {
   "display_name": "Python 2",
   "language": "python",
   "name": "python2"
  },
  "language_info": {
   "codemirror_mode": {
    "name": "ipython",
    "version": 2
   },
   "file_extension": ".py",
   "mimetype": "text/x-python",
   "name": "python",
   "nbconvert_exporter": "python",
   "pygments_lexer": "ipython2",
   "version": "2.7.13"
  }
 },
 "nbformat": 4,
 "nbformat_minor": 0
}
